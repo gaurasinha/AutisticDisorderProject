{
 "cells": [
  {
   "cell_type": "code",
   "execution_count": 121,
   "id": "d6bf6d3a",
   "metadata": {
    "id": "d6bf6d3a"
   },
   "outputs": [],
   "source": [
    "import pandas as pd\n",
    "import numpy as np \n",
    "import matplotlib.pyplot as plt \n",
    "from sklearn import datasets\n",
    "from sklearn.model_selection import train_test_split\n",
    "from sklearn.feature_selection import SelectKBest, chi2\n",
    "from sklearn.feature_selection import RFE\n",
    "from sklearn.ensemble import RandomForestClassifier\n",
    "from sklearn.preprocessing import MinMaxScaler, StandardScaler, LabelEncoder\n",
    "from xgboost import XGBClassifier\n",
    "from sklearn.linear_model import LogisticRegression\n",
    "from sklearn.discriminant_analysis import LinearDiscriminantAnalysis\n",
    "from sklearn.model_selection import cross_val_score\n",
    "from sklearn.model_selection import RepeatedStratifiedKFold\n",
    "from sklearn.metrics import ConfusionMatrixDisplay\n",
    "\n",
    "import seaborn as sns\n",
    "from sklearn.metrics import r2_score\n",
    "from sklearn.metrics import accuracy_score\n",
    "from sklearn.metrics import precision_score\n",
    "from sklearn.metrics import recall_score\n",
    "from sklearn.metrics import roc_curve\n",
    "from sklearn.metrics import auc\n",
    "from sklearn.metrics import classification_report"
   ]
  },
  {
   "cell_type": "markdown",
   "id": "29843b90",
   "metadata": {
    "id": "29843b90"
   },
   "source": [
    "<h2> Feature Selection on Autism Biolog Dataset</h2>"
   ]
  },
  {
   "cell_type": "markdown",
   "id": "1d2aa2b8",
   "metadata": {
    "id": "1d2aa2b8"
   },
   "source": [
    "<h3>Loading the Data</h3>\n",
    "\n",
    "\n",
    "1. Loaded the dataset \n",
    "2. Drop the Columns which aren't required\n"
   ]
  },
  {
   "cell_type": "code",
   "execution_count": 122,
   "id": "5d4647c3",
   "metadata": {
    "colab": {
     "base_uri": "https://localhost:8080/",
     "height": 299
    },
    "id": "5d4647c3",
    "outputId": "9e59874c-63f9-4c99-a065-588910b82f5d"
   },
   "outputs": [
    {
     "data": {
      "text/html": [
       "<div>\n",
       "<style scoped>\n",
       "    .dataframe tbody tr th:only-of-type {\n",
       "        vertical-align: middle;\n",
       "    }\n",
       "\n",
       "    .dataframe tbody tr th {\n",
       "        vertical-align: top;\n",
       "    }\n",
       "\n",
       "    .dataframe thead th {\n",
       "        text-align: right;\n",
       "    }\n",
       "</style>\n",
       "<table border=\"1\" class=\"dataframe\">\n",
       "  <thead>\n",
       "    <tr style=\"text-align: right;\">\n",
       "      <th></th>\n",
       "      <th>a-Cyclodextrin</th>\n",
       "      <th>Dextrin</th>\n",
       "      <th>Glycogen</th>\n",
       "      <th>Maltitol</th>\n",
       "      <th>Maltotriose</th>\n",
       "      <th>Maltose</th>\n",
       "      <th>D-Trehalose</th>\n",
       "      <th>D-Cellobiose</th>\n",
       "      <th>Gentiobiose</th>\n",
       "      <th>D-Glucose-6-Phosphate</th>\n",
       "      <th>...</th>\n",
       "      <th>Adenosine.4</th>\n",
       "      <th>Adenosine.5</th>\n",
       "      <th>Adenosine.6</th>\n",
       "      <th>Gly-His-Lys acetate salt</th>\n",
       "      <th>Gly-His-Lys acetate salt.1</th>\n",
       "      <th>Gly-His-Lys acetate salt.2</th>\n",
       "      <th>Gly-His-Lys acetate salt.3</th>\n",
       "      <th>Gly-His-Lys acetate salt.4</th>\n",
       "      <th>Gly-His-Lys acetate salt.5</th>\n",
       "      <th>Diagnosis</th>\n",
       "    </tr>\n",
       "  </thead>\n",
       "  <tbody>\n",
       "    <tr>\n",
       "      <th>0</th>\n",
       "      <td>0.26</td>\n",
       "      <td>1.00</td>\n",
       "      <td>0.99</td>\n",
       "      <td>0.28</td>\n",
       "      <td>1.07</td>\n",
       "      <td>1.09</td>\n",
       "      <td>0.41</td>\n",
       "      <td>0.31</td>\n",
       "      <td>0.35</td>\n",
       "      <td>0.46</td>\n",
       "      <td>...</td>\n",
       "      <td>1.10</td>\n",
       "      <td>1.10</td>\n",
       "      <td>1.08</td>\n",
       "      <td>1.00</td>\n",
       "      <td>1.09</td>\n",
       "      <td>0.99</td>\n",
       "      <td>0.97</td>\n",
       "      <td>0.95</td>\n",
       "      <td>0.87</td>\n",
       "      <td>1</td>\n",
       "    </tr>\n",
       "    <tr>\n",
       "      <th>1</th>\n",
       "      <td>0.24</td>\n",
       "      <td>0.91</td>\n",
       "      <td>1.01</td>\n",
       "      <td>0.30</td>\n",
       "      <td>1.02</td>\n",
       "      <td>1.14</td>\n",
       "      <td>0.39</td>\n",
       "      <td>0.32</td>\n",
       "      <td>0.31</td>\n",
       "      <td>0.46</td>\n",
       "      <td>...</td>\n",
       "      <td>1.18</td>\n",
       "      <td>1.12</td>\n",
       "      <td>1.24</td>\n",
       "      <td>0.96</td>\n",
       "      <td>0.94</td>\n",
       "      <td>0.92</td>\n",
       "      <td>0.91</td>\n",
       "      <td>0.93</td>\n",
       "      <td>0.89</td>\n",
       "      <td>1</td>\n",
       "    </tr>\n",
       "    <tr>\n",
       "      <th>2</th>\n",
       "      <td>0.31</td>\n",
       "      <td>1.41</td>\n",
       "      <td>1.42</td>\n",
       "      <td>0.38</td>\n",
       "      <td>0.36</td>\n",
       "      <td>0.17</td>\n",
       "      <td>0.26</td>\n",
       "      <td>0.11</td>\n",
       "      <td>0.17</td>\n",
       "      <td>0.62</td>\n",
       "      <td>...</td>\n",
       "      <td>1.32</td>\n",
       "      <td>0.75</td>\n",
       "      <td>0.70</td>\n",
       "      <td>1.19</td>\n",
       "      <td>1.21</td>\n",
       "      <td>1.12</td>\n",
       "      <td>1.07</td>\n",
       "      <td>1.05</td>\n",
       "      <td>0.71</td>\n",
       "      <td>1</td>\n",
       "    </tr>\n",
       "    <tr>\n",
       "      <th>3</th>\n",
       "      <td>0.19</td>\n",
       "      <td>0.59</td>\n",
       "      <td>0.41</td>\n",
       "      <td>0.17</td>\n",
       "      <td>0.25</td>\n",
       "      <td>0.18</td>\n",
       "      <td>0.16</td>\n",
       "      <td>0.15</td>\n",
       "      <td>0.13</td>\n",
       "      <td>0.33</td>\n",
       "      <td>...</td>\n",
       "      <td>0.62</td>\n",
       "      <td>0.67</td>\n",
       "      <td>0.57</td>\n",
       "      <td>0.64</td>\n",
       "      <td>0.63</td>\n",
       "      <td>0.62</td>\n",
       "      <td>0.61</td>\n",
       "      <td>0.58</td>\n",
       "      <td>0.55</td>\n",
       "      <td>1</td>\n",
       "    </tr>\n",
       "    <tr>\n",
       "      <th>4</th>\n",
       "      <td>0.25</td>\n",
       "      <td>1.35</td>\n",
       "      <td>0.95</td>\n",
       "      <td>0.25</td>\n",
       "      <td>0.44</td>\n",
       "      <td>0.22</td>\n",
       "      <td>0.14</td>\n",
       "      <td>0.17</td>\n",
       "      <td>0.16</td>\n",
       "      <td>0.68</td>\n",
       "      <td>...</td>\n",
       "      <td>1.40</td>\n",
       "      <td>1.37</td>\n",
       "      <td>1.31</td>\n",
       "      <td>1.23</td>\n",
       "      <td>1.52</td>\n",
       "      <td>1.16</td>\n",
       "      <td>1.22</td>\n",
       "      <td>1.18</td>\n",
       "      <td>1.09</td>\n",
       "      <td>1</td>\n",
       "    </tr>\n",
       "  </tbody>\n",
       "</table>\n",
       "<p>5 rows × 735 columns</p>\n",
       "</div>"
      ],
      "text/plain": [
       "   a-Cyclodextrin  Dextrin  Glycogen  Maltitol  Maltotriose  Maltose  \\\n",
       "0            0.26     1.00      0.99      0.28         1.07     1.09   \n",
       "1            0.24     0.91      1.01      0.30         1.02     1.14   \n",
       "2            0.31     1.41      1.42      0.38         0.36     0.17   \n",
       "3            0.19     0.59      0.41      0.17         0.25     0.18   \n",
       "4            0.25     1.35      0.95      0.25         0.44     0.22   \n",
       "\n",
       "   D-Trehalose  D-Cellobiose  Gentiobiose  D-Glucose-6-Phosphate  ...  \\\n",
       "0         0.41          0.31         0.35                   0.46  ...   \n",
       "1         0.39          0.32         0.31                   0.46  ...   \n",
       "2         0.26          0.11         0.17                   0.62  ...   \n",
       "3         0.16          0.15         0.13                   0.33  ...   \n",
       "4         0.14          0.17         0.16                   0.68  ...   \n",
       "\n",
       "   Adenosine.4  Adenosine.5  Adenosine.6  Gly-His-Lys acetate salt  \\\n",
       "0         1.10         1.10         1.08                      1.00   \n",
       "1         1.18         1.12         1.24                      0.96   \n",
       "2         1.32         0.75         0.70                      1.19   \n",
       "3         0.62         0.67         0.57                      0.64   \n",
       "4         1.40         1.37         1.31                      1.23   \n",
       "\n",
       "   Gly-His-Lys acetate salt.1  Gly-His-Lys acetate salt.2  \\\n",
       "0                        1.09                        0.99   \n",
       "1                        0.94                        0.92   \n",
       "2                        1.21                        1.12   \n",
       "3                        0.63                        0.62   \n",
       "4                        1.52                        1.16   \n",
       "\n",
       "   Gly-His-Lys acetate salt.3  Gly-His-Lys acetate salt.4  \\\n",
       "0                        0.97                        0.95   \n",
       "1                        0.91                        0.93   \n",
       "2                        1.07                        1.05   \n",
       "3                        0.61                        0.58   \n",
       "4                        1.22                        1.18   \n",
       "\n",
       "   Gly-His-Lys acetate salt.5  Diagnosis  \n",
       "0                        0.87          1  \n",
       "1                        0.89          1  \n",
       "2                        0.71          1  \n",
       "3                        0.55          1  \n",
       "4                        1.09          1  \n",
       "\n",
       "[5 rows x 735 columns]"
      ]
     },
     "execution_count": 122,
     "metadata": {},
     "output_type": "execute_result"
    }
   ],
   "source": [
    " # read the csv file from the link provided\n",
    " # drop Negative Controls from the dataset, since Negative Controls are not needed\n",
    " # drop the column that is not required from the dataset(CMS#)\n",
    "\n",
    "df = pd.read_csv(\"C:/AutisticDisorderProject/TestTrain5050data.csv\")\n",
    "df.drop(list(df.filter(regex='Negative Control')), axis=1, inplace=True)\n",
    "\n",
    "\n",
    "asd_data = df.drop(columns='CMS#',axis=1)\n",
    "# drop the 'CMS' column\n",
    "\n",
    "asd_data.head()"
   ]
  },
  {
   "cell_type": "code",
   "execution_count": 123,
   "id": "48881774",
   "metadata": {
    "id": "48881774"
   },
   "outputs": [
    {
     "data": {
      "text/plain": [
       "(100, 735)"
      ]
     },
     "execution_count": 123,
     "metadata": {},
     "output_type": "execute_result"
    }
   ],
   "source": [
    "# strip the whitespace in the column names\n",
    "asd_data.columns = asd_data.columns.str.strip()\n",
    "asd_data.shape"
   ]
  },
  {
   "cell_type": "markdown",
   "id": "c5ddda51",
   "metadata": {
    "id": "c5ddda51"
   },
   "source": [
    "<h3>Scaling the Data</h3>"
   ]
  },
  {
   "cell_type": "code",
   "execution_count": 124,
   "id": "a4efdc72",
   "metadata": {
    "id": "a4efdc72"
   },
   "outputs": [],
   "source": [
    "# hint: Use MinMaxScaler for scaling\n",
    "def scale_data(data):\n",
    "    # store all the columns\n",
    "    cols = data.columns\n",
    "    # create a scaler\n",
    "    scaler = MinMaxScaler(feature_range=(0, 1))\n",
    "    \n",
    "    # fit and transform the data\n",
    "    scaled_data = scaler.fit_transform(data)\n",
    "    \n",
    "    # store the transformed data in a dataframe and return it.\n",
    "    transformed_data = pd.DataFrame(scaled_data)\n",
    "    transformed_data.columns = cols\n",
    "    return transformed_data\n"
   ]
  },
  {
   "cell_type": "code",
   "execution_count": 125,
   "id": "c618794d",
   "metadata": {
    "colab": {
     "base_uri": "https://localhost:8080/",
     "height": 299
    },
    "id": "c618794d",
    "outputId": "be068134-df65-4bae-c819-fe5e2c2c7967"
   },
   "outputs": [
    {
     "data": {
      "text/html": [
       "<div>\n",
       "<style scoped>\n",
       "    .dataframe tbody tr th:only-of-type {\n",
       "        vertical-align: middle;\n",
       "    }\n",
       "\n",
       "    .dataframe tbody tr th {\n",
       "        vertical-align: top;\n",
       "    }\n",
       "\n",
       "    .dataframe thead th {\n",
       "        text-align: right;\n",
       "    }\n",
       "</style>\n",
       "<table border=\"1\" class=\"dataframe\">\n",
       "  <thead>\n",
       "    <tr style=\"text-align: right;\">\n",
       "      <th></th>\n",
       "      <th>a-Cyclodextrin</th>\n",
       "      <th>Dextrin</th>\n",
       "      <th>Glycogen</th>\n",
       "      <th>Maltitol</th>\n",
       "      <th>Maltotriose</th>\n",
       "      <th>Maltose</th>\n",
       "      <th>D-Trehalose</th>\n",
       "      <th>D-Cellobiose</th>\n",
       "      <th>Gentiobiose</th>\n",
       "      <th>D-Glucose-6-Phosphate</th>\n",
       "      <th>...</th>\n",
       "      <th>Adenosine.4</th>\n",
       "      <th>Adenosine.5</th>\n",
       "      <th>Adenosine.6</th>\n",
       "      <th>Gly-His-Lys acetate salt</th>\n",
       "      <th>Gly-His-Lys acetate salt.1</th>\n",
       "      <th>Gly-His-Lys acetate salt.2</th>\n",
       "      <th>Gly-His-Lys acetate salt.3</th>\n",
       "      <th>Gly-His-Lys acetate salt.4</th>\n",
       "      <th>Gly-His-Lys acetate salt.5</th>\n",
       "      <th>Diagnosis</th>\n",
       "    </tr>\n",
       "  </thead>\n",
       "  <tbody>\n",
       "    <tr>\n",
       "      <th>0</th>\n",
       "      <td>0.42</td>\n",
       "      <td>0.61</td>\n",
       "      <td>0.67</td>\n",
       "      <td>0.66</td>\n",
       "      <td>0.80</td>\n",
       "      <td>0.74</td>\n",
       "      <td>0.60</td>\n",
       "      <td>0.67</td>\n",
       "      <td>0.75</td>\n",
       "      <td>0.49</td>\n",
       "      <td>...</td>\n",
       "      <td>0.55</td>\n",
       "      <td>0.53</td>\n",
       "      <td>0.55</td>\n",
       "      <td>0.58</td>\n",
       "      <td>0.63</td>\n",
       "      <td>0.62</td>\n",
       "      <td>0.55</td>\n",
       "      <td>0.58</td>\n",
       "      <td>0.57</td>\n",
       "      <td>1.00</td>\n",
       "    </tr>\n",
       "    <tr>\n",
       "      <th>1</th>\n",
       "      <td>0.35</td>\n",
       "      <td>0.55</td>\n",
       "      <td>0.69</td>\n",
       "      <td>0.73</td>\n",
       "      <td>0.75</td>\n",
       "      <td>0.78</td>\n",
       "      <td>0.58</td>\n",
       "      <td>0.70</td>\n",
       "      <td>0.65</td>\n",
       "      <td>0.50</td>\n",
       "      <td>...</td>\n",
       "      <td>0.60</td>\n",
       "      <td>0.54</td>\n",
       "      <td>0.64</td>\n",
       "      <td>0.56</td>\n",
       "      <td>0.54</td>\n",
       "      <td>0.57</td>\n",
       "      <td>0.51</td>\n",
       "      <td>0.57</td>\n",
       "      <td>0.59</td>\n",
       "      <td>1.00</td>\n",
       "    </tr>\n",
       "    <tr>\n",
       "      <th>2</th>\n",
       "      <td>0.57</td>\n",
       "      <td>0.89</td>\n",
       "      <td>1.00</td>\n",
       "      <td>0.97</td>\n",
       "      <td>0.21</td>\n",
       "      <td>0.07</td>\n",
       "      <td>0.33</td>\n",
       "      <td>0.08</td>\n",
       "      <td>0.31</td>\n",
       "      <td>0.76</td>\n",
       "      <td>...</td>\n",
       "      <td>0.68</td>\n",
       "      <td>0.34</td>\n",
       "      <td>0.33</td>\n",
       "      <td>0.71</td>\n",
       "      <td>0.71</td>\n",
       "      <td>0.71</td>\n",
       "      <td>0.61</td>\n",
       "      <td>0.65</td>\n",
       "      <td>0.47</td>\n",
       "      <td>1.00</td>\n",
       "    </tr>\n",
       "    <tr>\n",
       "      <th>3</th>\n",
       "      <td>0.20</td>\n",
       "      <td>0.34</td>\n",
       "      <td>0.24</td>\n",
       "      <td>0.32</td>\n",
       "      <td>0.13</td>\n",
       "      <td>0.08</td>\n",
       "      <td>0.16</td>\n",
       "      <td>0.18</td>\n",
       "      <td>0.23</td>\n",
       "      <td>0.28</td>\n",
       "      <td>...</td>\n",
       "      <td>0.28</td>\n",
       "      <td>0.29</td>\n",
       "      <td>0.26</td>\n",
       "      <td>0.35</td>\n",
       "      <td>0.33</td>\n",
       "      <td>0.36</td>\n",
       "      <td>0.32</td>\n",
       "      <td>0.35</td>\n",
       "      <td>0.36</td>\n",
       "      <td>1.00</td>\n",
       "    </tr>\n",
       "    <tr>\n",
       "      <th>4</th>\n",
       "      <td>0.40</td>\n",
       "      <td>0.85</td>\n",
       "      <td>0.64</td>\n",
       "      <td>0.57</td>\n",
       "      <td>0.28</td>\n",
       "      <td>0.11</td>\n",
       "      <td>0.12</td>\n",
       "      <td>0.27</td>\n",
       "      <td>0.28</td>\n",
       "      <td>0.87</td>\n",
       "      <td>...</td>\n",
       "      <td>0.72</td>\n",
       "      <td>0.68</td>\n",
       "      <td>0.69</td>\n",
       "      <td>0.74</td>\n",
       "      <td>0.91</td>\n",
       "      <td>0.74</td>\n",
       "      <td>0.71</td>\n",
       "      <td>0.73</td>\n",
       "      <td>0.72</td>\n",
       "      <td>1.00</td>\n",
       "    </tr>\n",
       "  </tbody>\n",
       "</table>\n",
       "<p>5 rows × 735 columns</p>\n",
       "</div>"
      ],
      "text/plain": [
       "   a-Cyclodextrin  Dextrin  Glycogen  Maltitol  Maltotriose  Maltose  \\\n",
       "0            0.42     0.61      0.67      0.66         0.80     0.74   \n",
       "1            0.35     0.55      0.69      0.73         0.75     0.78   \n",
       "2            0.57     0.89      1.00      0.97         0.21     0.07   \n",
       "3            0.20     0.34      0.24      0.32         0.13     0.08   \n",
       "4            0.40     0.85      0.64      0.57         0.28     0.11   \n",
       "\n",
       "   D-Trehalose  D-Cellobiose  Gentiobiose  D-Glucose-6-Phosphate  ...  \\\n",
       "0         0.60          0.67         0.75                   0.49  ...   \n",
       "1         0.58          0.70         0.65                   0.50  ...   \n",
       "2         0.33          0.08         0.31                   0.76  ...   \n",
       "3         0.16          0.18         0.23                   0.28  ...   \n",
       "4         0.12          0.27         0.28                   0.87  ...   \n",
       "\n",
       "   Adenosine.4  Adenosine.5  Adenosine.6  Gly-His-Lys acetate salt  \\\n",
       "0         0.55         0.53         0.55                      0.58   \n",
       "1         0.60         0.54         0.64                      0.56   \n",
       "2         0.68         0.34         0.33                      0.71   \n",
       "3         0.28         0.29         0.26                      0.35   \n",
       "4         0.72         0.68         0.69                      0.74   \n",
       "\n",
       "   Gly-His-Lys acetate salt.1  Gly-His-Lys acetate salt.2  \\\n",
       "0                        0.63                        0.62   \n",
       "1                        0.54                        0.57   \n",
       "2                        0.71                        0.71   \n",
       "3                        0.33                        0.36   \n",
       "4                        0.91                        0.74   \n",
       "\n",
       "   Gly-His-Lys acetate salt.3  Gly-His-Lys acetate salt.4  \\\n",
       "0                        0.55                        0.58   \n",
       "1                        0.51                        0.57   \n",
       "2                        0.61                        0.65   \n",
       "3                        0.32                        0.35   \n",
       "4                        0.71                        0.73   \n",
       "\n",
       "   Gly-His-Lys acetate salt.5  Diagnosis  \n",
       "0                        0.57       1.00  \n",
       "1                        0.59       1.00  \n",
       "2                        0.47       1.00  \n",
       "3                        0.36       1.00  \n",
       "4                        0.72       1.00  \n",
       "\n",
       "[5 rows x 735 columns]"
      ]
     },
     "execution_count": 125,
     "metadata": {},
     "output_type": "execute_result"
    }
   ],
   "source": [
    "transformed_data = scale_data(asd_data)\n",
    "transformed_data.head()"
   ]
  },
  {
   "cell_type": "markdown",
   "id": "6bbd4d64",
   "metadata": {
    "id": "6bbd4d64"
   },
   "source": [
    "5. Perform train_test_split"
   ]
  },
  {
   "cell_type": "code",
   "execution_count": 126,
   "id": "c2c41cf1",
   "metadata": {
    "id": "c2c41cf1"
   },
   "outputs": [],
   "source": [
    "# select all rows of all columns except the column 'Diagnosis'\n",
    "X = transformed_data.loc[:, :'Gly-His-Lys acetate salt.5']\n",
    "\n",
    "# the column we are going to classify\n",
    "y = transformed_data['Diagnosis']\n",
    "\n",
    "# do the train test data split\n",
    "X_train, X_test, y_train, y_test = train_test_split(X, y, test_size=0.3, random_state=50)\n",
    "\n",
    "# convert y_train and y_test into dataframes\n",
    "y_train = pd.DataFrame(y_train)\n",
    "y_test = pd.DataFrame(y_test)\n",
    "\n",
    "y_train = y_train.astype('int')"
   ]
  },
  {
   "cell_type": "markdown",
   "id": "b7626c9a",
   "metadata": {},
   "source": [
    "<h3>Shortlisting Classifiers</h3>"
   ]
  },
  {
   "cell_type": "markdown",
   "id": "e93ae893",
   "metadata": {
    "id": "e93ae893"
   },
   "source": [
    "Use lazypredict to get a shortlist on best possible classifiers"
   ]
  },
  {
   "cell_type": "code",
   "execution_count": 127,
   "id": "7067f3ce",
   "metadata": {
    "id": "7067f3ce"
   },
   "outputs": [
    {
     "name": "stderr",
     "output_type": "stream",
     "text": [
      "100%|██████████| 29/29 [00:01<00:00, 16.52it/s]\n"
     ]
    }
   ],
   "source": [
    "#!pip install lazypredict\n",
    "from lazypredict.Supervised import LazyClassifier, LazyRegressor\n",
    "clf = LazyClassifier(predictions=True)\n",
    "models, predictions = clf.fit(X_train, X_test, y_train, y_test)"
   ]
  },
  {
   "cell_type": "markdown",
   "id": "bfdeb22c",
   "metadata": {
    "id": "bfdeb22c"
   },
   "source": [
    "Print the results"
   ]
  },
  {
   "cell_type": "code",
   "execution_count": 128,
   "id": "e30bc26b",
   "metadata": {
    "id": "e30bc26b"
   },
   "outputs": [
    {
     "name": "stdout",
     "output_type": "stream",
     "text": [
      "                               Accuracy  Balanced Accuracy  ROC AUC  F1 Score  \\\n",
      "Model                                                                           \n",
      "LogisticRegression                 0.73               0.72     0.72      0.73   \n",
      "LinearDiscriminantAnalysis         0.70               0.69     0.69      0.69   \n",
      "LinearSVC                          0.70               0.69     0.69      0.69   \n",
      "RidgeClassifierCV                  0.70               0.69     0.69      0.69   \n",
      "PassiveAggressiveClassifier        0.70               0.69     0.69      0.69   \n",
      "CalibratedClassifierCV             0.67               0.66     0.66      0.66   \n",
      "RidgeClassifier                    0.67               0.65     0.65      0.65   \n",
      "SGDClassifier                      0.63               0.63     0.63      0.63   \n",
      "NearestCentroid                    0.63               0.63     0.63      0.63   \n",
      "AdaBoostClassifier                 0.63               0.63     0.63      0.63   \n",
      "LGBMClassifier                     0.63               0.62     0.62      0.63   \n",
      "NuSVC                              0.63               0.62     0.62      0.63   \n",
      "XGBClassifier                      0.63               0.62     0.62      0.63   \n",
      "Perceptron                         0.63               0.62     0.62      0.61   \n",
      "BaggingClassifier                  0.60               0.60     0.60      0.60   \n",
      "GaussianNB                         0.60               0.59     0.59      0.60   \n",
      "RandomForestClassifier             0.60               0.59     0.59      0.59   \n",
      "SVC                                0.60               0.59     0.59      0.59   \n",
      "ExtraTreesClassifier               0.57               0.55     0.55      0.55   \n",
      "ExtraTreeClassifier                0.53               0.54     0.54      0.53   \n",
      "BernoulliNB                        0.53               0.52     0.52      0.52   \n",
      "QuadraticDiscriminantAnalysis      0.53               0.52     0.52      0.51   \n",
      "LabelSpreading                     0.47               0.50     0.50      0.30   \n",
      "DummyClassifier                    0.47               0.50     0.50      0.30   \n",
      "LabelPropagation                   0.47               0.50     0.50      0.30   \n",
      "KNeighborsClassifier               0.47               0.46     0.46      0.46   \n",
      "DecisionTreeClassifier             0.47               0.46     0.46      0.45   \n",
      "\n",
      "                               Time Taken  \n",
      "Model                                      \n",
      "LogisticRegression                   0.04  \n",
      "LinearDiscriminantAnalysis           0.04  \n",
      "LinearSVC                            0.05  \n",
      "RidgeClassifierCV                    0.02  \n",
      "PassiveAggressiveClassifier          0.04  \n",
      "CalibratedClassifierCV               0.11  \n",
      "RidgeClassifier                      0.03  \n",
      "SGDClassifier                        0.04  \n",
      "NearestCentroid                      0.03  \n",
      "AdaBoostClassifier                   0.24  \n",
      "LGBMClassifier                       0.14  \n",
      "NuSVC                                0.05  \n",
      "XGBClassifier                        0.15  \n",
      "Perceptron                           0.03  \n",
      "BaggingClassifier                    0.09  \n",
      "GaussianNB                           0.03  \n",
      "RandomForestClassifier               0.20  \n",
      "SVC                                  0.03  \n",
      "ExtraTreesClassifier                 0.12  \n",
      "ExtraTreeClassifier                  0.03  \n",
      "BernoulliNB                          0.02  \n",
      "QuadraticDiscriminantAnalysis        0.04  \n",
      "LabelSpreading                       0.03  \n",
      "DummyClassifier                      0.03  \n",
      "LabelPropagation                     0.02  \n",
      "KNeighborsClassifier                 0.02  \n",
      "DecisionTreeClassifier               0.04  \n"
     ]
    }
   ],
   "source": [
    "print(models)"
   ]
  },
  {
   "cell_type": "markdown",
   "id": "3b821e42",
   "metadata": {},
   "source": [
    "<h3>Alternative Models : </h3> Ridge CV Classifier, Linear Discriminant Analysis, Logistic Regression"
   ]
  },
  {
   "cell_type": "code",
   "execution_count": 132,
   "id": "973745d2",
   "metadata": {},
   "outputs": [],
   "source": [
    "models = []\n",
    "accuracy_test = []\n",
    "accuracy_train = []\n",
    "precision = []\n",
    "recall = []"
   ]
  },
  {
   "cell_type": "markdown",
   "id": "ecab8c57",
   "metadata": {},
   "source": [
    "<h4>Ridge CV Classifier</h4> "
   ]
  },
  {
   "cell_type": "code",
   "execution_count": 133,
   "id": "453164a9",
   "metadata": {
    "colab": {
     "base_uri": "https://localhost:8080/"
    },
    "id": "453164a9",
    "outputId": "c112552a-7ae1-4003-b1eb-9cea8c4bc1c8"
   },
   "outputs": [
    {
     "name": "stdout",
     "output_type": "stream",
     "text": [
      "Train Accuracy for Ridge CV Classifier:  1.0\n",
      "Test Accuracy for Ridge CV Classifier:  0.7\n",
      "Precision for Ridge CV Classifier:  0.6666666666666666\n",
      "Recall for Ridge CV Classifier:  0.875\n",
      "Confusion matrix, without normalization\n",
      "[[ 7  7]\n",
      " [ 4 12]]\n",
      "Normalized confusion matrix\n",
      "[[0.5  0.5 ]\n",
      " [0.25 0.75]]\n"
     ]
    },
    {
     "data": {
      "image/png": "[encoded data removed]",
      "text/plain": [
       "<Figure size 1080x576 with 2 Axes>"
      ]
     },
     "metadata": {},
     "output_type": "display_data"
    },
    {
     "data": {
      "image/png": "[encoded data removed]",
      "text/plain": [
       "<Figure size 1080x576 with 2 Axes>"
      ]
     },
     "metadata": {},
     "output_type": "display_data"
    }
   ],
   "source": [
    "# Ridge Classifier CV\n",
    "from sklearn.linear_model import RidgeClassifierCV\n",
    "  \n",
    "ridgeCV = RidgeClassifierCV( alphas= [1e-3, 1e-2, 1e-1,1,2], fit_intercept= True,cv=8)\n",
    "ridgeCV.fit(X_train, y_train)\n",
    "y_pred = ridgeCV.predict(X_test)\n",
    "y_pred = pd.DataFrame(y_pred)\n",
    "y_train_pred = ridgeCV.predict(X_train)\n",
    "y_train_pred = pd.DataFrame(y_train_pred)\n",
    "\n",
    "models.append('RidgeCV')\n",
    "a_train = accuracy_score(y_train,y_train_pred)\n",
    "a_test = accuracy_score(y_test,y_pred)\n",
    "p = precision_score(y_test,y_pred)\n",
    "r = recall_score(y_test,y_pred)\n",
    "\n",
    "accuracy_test.append(a_test)\n",
    "accuracy_train.append(a_train)\n",
    "precision.append(p)\n",
    "recall.append(r)\n",
    "\n",
    "print(\"Train Accuracy for Ridge CV Classifier: \",a_train)\n",
    "print(\"Test Accuracy for Ridge CV Classifier: \",a_test)\n",
    "print(\"Precision for Ridge CV Classifier: \",p)\n",
    "print(\"Recall for Ridge CV Classifier: \",r)\n",
    "\n",
    "titles_options = [\n",
    "    (\"Confusion matrix, without normalization\", None),\n",
    "    (\"Normalized confusion matrix\", \"true\"),\n",
    "]\n",
    "for title, normalize in titles_options:\n",
    "    disp = ConfusionMatrixDisplay.from_estimator(\n",
    "        xgb,\n",
    "        X_test,\n",
    "        y_test,\n",
    "        display_labels=[0,1],\n",
    "        cmap=plt.cm.Blues,\n",
    "        normalize=normalize,\n",
    "    )\n",
    "    disp.ax_.set_title(title)\n",
    "\n",
    "    print(title)\n",
    "    print(disp.confusion_matrix)\n",
    "\n",
    "plt.show()"
   ]
  },
  {
   "cell_type": "markdown",
   "id": "57f5ee12",
   "metadata": {},
   "source": [
    "<h4>Linear Discriminant Analysis</h4>"
   ]
  },
  {
   "cell_type": "code",
   "execution_count": 134,
   "id": "04c64986",
   "metadata": {},
   "outputs": [
    {
     "name": "stdout",
     "output_type": "stream",
     "text": [
      "Train Accuracy for Linear Discriminant Analysis:  0.8285714285714286\n",
      "Accuracy for Linear Discriminant Analysis:  0.7\n",
      "Precision for Linear Discriminant Analysis:  0.6842105263157895\n",
      "Recall for Linear Discriminant Analysis:  0.8125\n",
      "Confusion matrix, without normalization\n",
      "[[ 8  6]\n",
      " [ 3 13]]\n",
      "Normalized confusion matrix\n",
      "[[0.57142857 0.42857143]\n",
      " [0.1875     0.8125    ]]\n"
     ]
    },
    {
     "data": {
      "image/png": "[encoded data removed]",
      "text/plain": [
       "<Figure size 1080x576 with 2 Axes>"
      ]
     },
     "metadata": {},
     "output_type": "display_data"
    },
    {
     "data": {
      "image/png": "[encoded data removed]",
      "text/plain": [
       "<Figure size 1080x576 with 2 Axes>"
      ]
     },
     "metadata": {},
     "output_type": "display_data"
    }
   ],
   "source": [
    "lda = LinearDiscriminantAnalysis()\n",
    "lda.fit(X_train, y_train)\n",
    "y_pred = lda.predict(X_test)\n",
    "y_pred = pd.DataFrame(y_pred)\n",
    "y_train_pred = lda.predict(X_train)\n",
    "y_train_pred = pd.DataFrame(y_train_pred)\n",
    "\n",
    "models.append('LDA')\n",
    "a_train = accuracy_score(y_train,y_train_pred)\n",
    "a_test = accuracy_score(y_test,y_pred)\n",
    "p = precision_score(y_test,y_pred)\n",
    "r = recall_score(y_test,y_pred)\n",
    "\n",
    "accuracy_test.append(a_test)\n",
    "accuracy_train.append(a_train)\n",
    "precision.append(p)\n",
    "recall.append(r)\n",
    "\n",
    "print(\"Train Accuracy for Linear Discriminant Analysis: \",a_train)\n",
    "print(\"Accuracy for Linear Discriminant Analysis: \",accuracy_score(y_test,y_pred))\n",
    "print(\"Precision for Linear Discriminant Analysis: \",precision_score(y_test,y_pred))\n",
    "print(\"Recall for Linear Discriminant Analysis: \",recall_score(y_test,y_pred))\n",
    "\n",
    "titles_options = [\n",
    "    (\"Confusion matrix, without normalization\", None),\n",
    "    (\"Normalized confusion matrix\", \"true\"),\n",
    "]\n",
    "for title, normalize in titles_options:\n",
    "    disp = ConfusionMatrixDisplay.from_estimator(\n",
    "        lda,\n",
    "        X_test,\n",
    "        y_test,\n",
    "        display_labels=[0,1],\n",
    "        cmap=plt.cm.Blues,\n",
    "        normalize=normalize\n",
    "    )\n",
    "    disp.ax_.set_title(title)\n",
    "\n",
    "    print(title)\n",
    "    print(disp.confusion_matrix)\n",
    "\n",
    "plt.show()"
   ]
  },
  {
   "cell_type": "markdown",
   "id": "d376c650",
   "metadata": {
    "id": "d376c650"
   },
   "source": [
    "<h4>Logistic Regression</h4>"
   ]
  },
  {
   "cell_type": "code",
   "execution_count": 135,
   "id": "1644ca38",
   "metadata": {
    "colab": {
     "base_uri": "https://localhost:8080/"
    },
    "id": "1644ca38",
    "outputId": "31f2d6dd-0f75-44c4-f35e-13e4b2bb3aef"
   },
   "outputs": [
    {
     "name": "stdout",
     "output_type": "stream",
     "text": [
      "Train Accuracy for Logistic Regression:  1.0\n",
      "Accuracy for Logistic Regression:  0.7333333333333333\n",
      "Precision for Logistic Regression:  0.7\n",
      "Recall for Logistic Regression:  0.875\n",
      "Confusion matrix, without normalization\n",
      "[[ 8  6]\n",
      " [ 2 14]]\n",
      "Normalized confusion matrix\n",
      "[[0.57142857 0.42857143]\n",
      " [0.125      0.875     ]]\n"
     ]
    },
    {
     "data": {
      "image/png": "[encoded data removed]",
      "text/plain": [
       "<Figure size 1080x576 with 2 Axes>"
      ]
     },
     "metadata": {},
     "output_type": "display_data"
    },
    {
     "data": {
      "image/png": "[encoded data removed]",
      "text/plain": [
       "<Figure size 1080x576 with 2 Axes>"
      ]
     },
     "metadata": {},
     "output_type": "display_data"
    }
   ],
   "source": [
    "lr = LogisticRegression(solver=\"lbfgs\", max_iter=10000)\n",
    "lr.fit(X_train, y_train)\n",
    "y_pred = lr.predict(X_test)\n",
    "y_pred = pd.DataFrame(y_pred)\n",
    "y_train_pred = lr.predict(X_train)\n",
    "y_train_pred = pd.DataFrame(y_train_pred)\n",
    "\n",
    "models.append('LogisticRegression')\n",
    "a_train = accuracy_score(y_train,y_train_pred)\n",
    "a_test = accuracy_score(y_test,y_pred)\n",
    "p = precision_score(y_test,y_pred)\n",
    "r = recall_score(y_test,y_pred)\n",
    "\n",
    "accuracy_test.append(a_test)\n",
    "accuracy_train.append(a_train)\n",
    "precision.append(p)\n",
    "recall.append(r)\n",
    "\n",
    "print(\"Train Accuracy for Logistic Regression: \",a_train)\n",
    "print(\"Accuracy for Logistic Regression: \",accuracy_score(y_test,y_pred))\n",
    "print(\"Precision for Logistic Regression: \",precision_score(y_test,y_pred))\n",
    "print(\"Recall for Logistic Regression: \",recall_score(y_test,y_pred))\n",
    "\n",
    "titles_options = [\n",
    "    (\"Confusion matrix, without normalization\", None),\n",
    "    (\"Normalized confusion matrix\", \"true\"),\n",
    "]\n",
    "for title, normalize in titles_options:\n",
    "    disp = ConfusionMatrixDisplay.from_estimator(\n",
    "        lr,\n",
    "        X_test,\n",
    "        y_test,\n",
    "        display_labels=[0,1],\n",
    "        cmap=plt.cm.Blues,\n",
    "        normalize=normalize\n",
    "    )\n",
    "    disp.ax_.set_title(title)\n",
    "\n",
    "    print(title)\n",
    "    print(disp.confusion_matrix)\n",
    "\n",
    "plt.show()\n"
   ]
  },
  {
   "cell_type": "markdown",
   "id": "b325e790",
   "metadata": {
    "id": "b325e790"
   },
   "source": [
    "### Linear SVC"
   ]
  },
  {
   "cell_type": "code",
   "execution_count": 136,
   "id": "6a5fdbb0",
   "metadata": {
    "colab": {
     "base_uri": "https://localhost:8080/"
    },
    "id": "6a5fdbb0",
    "outputId": "35838e78-aeec-4fc8-eda6-cc58f4886274"
   },
   "outputs": [
    {
     "name": "stdout",
     "output_type": "stream",
     "text": [
      "Train Accuracy for LinearSVC:  1.0\n",
      "Accuracy for LinearSVC:  0.7\n",
      "Precision for LinearSVC:  0.6666666666666666\n",
      "Recall for LinearSVC:  0.875\n",
      "Confusion matrix, without normalization\n",
      "[[ 7  7]\n",
      " [ 2 14]]\n",
      "Normalized confusion matrix\n",
      "[[0.5   0.5  ]\n",
      " [0.125 0.875]]\n"
     ]
    },
    {
     "data": {
      "image/png": "[encoded data removed]",
      "text/plain": [
       "<Figure size 1080x576 with 2 Axes>"
      ]
     },
     "metadata": {},
     "output_type": "display_data"
    },
    {
     "data": {
      "image/png": "[encoded data removed]",
      "text/plain": [
       "<Figure size 1080x576 with 2 Axes>"
      ]
     },
     "metadata": {},
     "output_type": "display_data"
    },
    {
     "name": "stdout",
     "output_type": "stream",
     "text": [
      "              precision    recall  f1-score   support\n",
      "\n",
      "         0.0       0.78      0.50      0.61        14\n",
      "         1.0       0.67      0.88      0.76        16\n",
      "\n",
      "    accuracy                           0.70        30\n",
      "   macro avg       0.72      0.69      0.68        30\n",
      "weighted avg       0.72      0.70      0.69        30\n",
      "\n"
     ]
    }
   ],
   "source": [
    "from sklearn.svm import LinearSVC\n",
    "lsvc = LinearSVC(verbose=0)\n",
    "\n",
    "lsvc.fit(X_train, y_train)\n",
    "y_pred = lsvc.predict(X_test)\n",
    "y_pred = pd.DataFrame(y_pred)\n",
    "y_train_pred = lsvc.predict(X_train)\n",
    "y_train_pred = pd.DataFrame(y_train_pred)\n",
    "\n",
    "models.append('LSVC')\n",
    "a_train = accuracy_score(y_train,y_train_pred)\n",
    "a_test = accuracy_score(y_test,y_pred)\n",
    "p = precision_score(y_test,y_pred)\n",
    "r = recall_score(y_test,y_pred)\n",
    "\n",
    "accuracy_test.append(a_test)\n",
    "accuracy_train.append(a_train)\n",
    "precision.append(p)\n",
    "recall.append(r)\n",
    "\n",
    "print(\"Train Accuracy for LinearSVC: \",a_train)\n",
    "print(\"Accuracy for LinearSVC: \",accuracy_score(y_test,y_pred))\n",
    "print(\"Precision for LinearSVC: \",precision_score(y_test,y_pred))\n",
    "print(\"Recall for LinearSVC: \",recall_score(y_test,y_pred))\n",
    "\n",
    "titles_options = [\n",
    "    (\"Confusion matrix, without normalization\", None),\n",
    "    (\"Normalized confusion matrix\", \"true\"),\n",
    "]\n",
    "for title, normalize in titles_options:\n",
    "    disp = ConfusionMatrixDisplay.from_estimator(\n",
    "        lsvc,\n",
    "        X_test,\n",
    "        y_test,\n",
    "        display_labels=[0,1],\n",
    "        cmap=plt.cm.Blues,\n",
    "        normalize=normalize\n",
    "    )\n",
    "    disp.ax_.set_title(title)\n",
    "\n",
    "    print(title)\n",
    "    print(disp.confusion_matrix)\n",
    "\n",
    "plt.show()\n",
    "\n",
    "\n",
    "cr = classification_report(y_test, y_pred)\n",
    "print(cr)"
   ]
  },
  {
   "cell_type": "code",
   "execution_count": 137,
   "id": "0f11d92b",
   "metadata": {},
   "outputs": [
    {
     "name": "stdout",
     "output_type": "stream",
     "text": [
      "Train Accuracy for Random Forest Classifier:  1.0\n",
      "Accuracy for Random Forest Classifier:  0.5333333333333333\n",
      "Precision for Random Forest Classifier:  0.55\n",
      "Recall for Random Forest Classifier:  0.6875\n",
      "Confusion matrix, without normalization\n",
      "[[ 5  9]\n",
      " [ 5 11]]\n",
      "Normalized confusion matrix\n",
      "[[0.35714286 0.64285714]\n",
      " [0.3125     0.6875    ]]\n"
     ]
    },
    {
     "data": {
      "image/png": "[encoded data removed]",
      "text/plain": [
       "<Figure size 1080x576 with 2 Axes>"
      ]
     },
     "metadata": {},
     "output_type": "display_data"
    },
    {
     "data": {
      "image/png": "[encoded data removed]",
      "text/plain": [
       "<Figure size 1080x576 with 2 Axes>"
      ]
     },
     "metadata": {},
     "output_type": "display_data"
    }
   ],
   "source": [
    "rf = RandomForestClassifier()\n",
    "rf.fit(X_train, y_train)\n",
    "y_pred = rf.predict(X_test)\n",
    "y_pred = pd.DataFrame(y_pred)\n",
    "y_train_pred = rf.predict(X_train)\n",
    "y_train_pred = pd.DataFrame(y_train_pred)\n",
    "\n",
    "models.append('RandomForest')\n",
    "a_train = accuracy_score(y_train,y_train_pred)\n",
    "a_test = accuracy_score(y_test,y_pred)\n",
    "p = precision_score(y_test,y_pred)\n",
    "r = recall_score(y_test,y_pred)\n",
    "\n",
    "accuracy_test.append(a_test)\n",
    "accuracy_train.append(a_train)\n",
    "precision.append(p)\n",
    "recall.append(r)\n",
    "\n",
    "print(\"Train Accuracy for Random Forest Classifier: \",a_train)\n",
    "\n",
    "print(\"Accuracy for Random Forest Classifier: \",accuracy_score(y_test,y_pred))\n",
    "print(\"Precision for Random Forest Classifier: \",precision_score(y_test,y_pred))\n",
    "print(\"Recall for Random Forest Classifier: \",recall_score(y_test,y_pred))\n",
    "\n",
    "titles_options = [\n",
    "    (\"Confusion matrix, without normalization\", None),\n",
    "    (\"Normalized confusion matrix\", \"true\"),\n",
    "]\n",
    "for title, normalize in titles_options:\n",
    "    disp = ConfusionMatrixDisplay.from_estimator(\n",
    "        rf,\n",
    "        X_test,\n",
    "        y_test,\n",
    "        display_labels=[0,1],\n",
    "        cmap=plt.cm.Blues,\n",
    "        normalize=normalize,\n",
    "    )\n",
    "    disp.ax_.set_title(title)\n",
    "\n",
    "    print(title)\n",
    "    print(disp.confusion_matrix)\n",
    "\n",
    "plt.show()\n"
   ]
  },
  {
   "cell_type": "code",
   "execution_count": 138,
   "id": "92a39b72",
   "metadata": {},
   "outputs": [
    {
     "name": "stdout",
     "output_type": "stream",
     "text": [
      "['RidgeCV', 'LDA', 'LogisticRegression', 'LSVC', 'RandomForest']\n"
     ]
    }
   ],
   "source": [
    "print(models)"
   ]
  },
  {
   "cell_type": "code",
   "execution_count": 139,
   "id": "cb58946b",
   "metadata": {},
   "outputs": [
    {
     "name": "stdout",
     "output_type": "stream",
     "text": [
      "[0.875, 0.8125, 0.875, 0.875, 0.6875]\n"
     ]
    }
   ],
   "source": [
    "print(recall)"
   ]
  },
  {
   "cell_type": "code",
   "execution_count": 140,
   "id": "5b26ccf5",
   "metadata": {},
   "outputs": [
    {
     "name": "stdout",
     "output_type": "stream",
     "text": [
      "[1.0, 0.8285714285714286, 1.0, 1.0, 1.0]\n"
     ]
    }
   ],
   "source": [
    "print(accuracy_train)"
   ]
  },
  {
   "cell_type": "code",
   "execution_count": 141,
   "id": "092da917",
   "metadata": {},
   "outputs": [
    {
     "name": "stdout",
     "output_type": "stream",
     "text": [
      "[0.7, 0.7, 0.7333333333333333, 0.7, 0.5333333333333333]\n"
     ]
    }
   ],
   "source": [
    "print(accuracy_test)"
   ]
  },
  {
   "cell_type": "code",
   "execution_count": 142,
   "id": "e6e67676",
   "metadata": {},
   "outputs": [
    {
     "name": "stdout",
     "output_type": "stream",
     "text": [
      "[0.6666666666666666, 0.6842105263157895, 0.7, 0.6666666666666666, 0.55]\n"
     ]
    }
   ],
   "source": [
    "print(precision)"
   ]
  },
  {
   "cell_type": "code",
   "execution_count": 143,
   "id": "b7be713b",
   "metadata": {},
   "outputs": [
    {
     "data": {
      "image/png": "[encoded data removed]",
      "text/plain": [
       "<Figure size 720x360 with 1 Axes>"
      ]
     },
     "metadata": {},
     "output_type": "display_data"
    }
   ],
   "source": [
    "sns.axes_style('white')\n",
    "sns.set_style('white')\n",
    "fig = plt.figure(figsize = (10, 5))\n",
    "plt.ylim(0,1)\n",
    "ax = sns.barplot(models,recall)\n",
    "plt.title(\"Recall for Different Models\")\n",
    "plt.xlabel(\"Models\")\n",
    "plt.ylabel(\"Recall Score\")\n",
    "plt.show()"
   ]
  },
  {
   "cell_type": "code",
   "execution_count": 144,
   "id": "e0764ccb",
   "metadata": {},
   "outputs": [
    {
     "data": {
      "image/png": "[encoded data removed]",
      "text/plain": [
       "<Figure size 720x360 with 1 Axes>"
      ]
     },
     "metadata": {},
     "output_type": "display_data"
    }
   ],
   "source": [
    "sns.axes_style('white')\n",
    "sns.set_style('white')\n",
    "fig = plt.figure(figsize = (10, 5))\n",
    "plt.ylim(0,1)\n",
    "ax = sns.barplot(models,accuracy_test)\n",
    "plt.title(\"Test Accuracy for Different Models\")\n",
    "plt.xlabel(\"Models\")\n",
    "plt.ylabel(\"Test Accuracy Score\")\n",
    "plt.show()"
   ]
  },
  {
   "cell_type": "code",
   "execution_count": 145,
   "id": "cb762ca7",
   "metadata": {},
   "outputs": [
    {
     "data": {
      "image/png": "[encoded data removed]",
      "text/plain": [
       "<Figure size 720x360 with 1 Axes>"
      ]
     },
     "metadata": {},
     "output_type": "display_data"
    }
   ],
   "source": [
    "sns.axes_style('white')\n",
    "sns.set_style('white')\n",
    "fig = plt.figure(figsize = (10, 5))\n",
    "plt.ylim(0,1)\n",
    "ax = sns.barplot(models,precision)\n",
    "plt.title(\"Precision for Different Models\")\n",
    "plt.xlabel(\"Models\")\n",
    "plt.ylabel(\"Precision Score\")\n",
    "plt.show()"
   ]
  },
  {
   "cell_type": "code",
   "execution_count": 146,
   "id": "f7ce8595",
   "metadata": {},
   "outputs": [
    {
     "data": {
      "image/png": "[encoded data removed]",
      "text/plain": [
       "<Figure size 1080x576 with 1 Axes>"
      ]
     },
     "metadata": {},
     "output_type": "display_data"
    }
   ],
   "source": [
    " \n",
    "X_axis = np.arange(len(models))\n",
    "  \n",
    "plt.bar(X_axis - 0.2, accuracy_train, 0.4, label = 'Train')\n",
    "plt.bar(X_axis + 0.2, accuracy_test, 0.4, label = 'Test')\n",
    "  \n",
    "plt.xticks(X_axis, models)\n",
    "plt.xlabel(\"Models\")\n",
    "plt.ylabel(\"Accuracy Score\")\n",
    "plt.title(\"Using Train-Test Accuracy to check for overfitting \")\n",
    "plt.legend()\n",
    "plt.show()"
   ]
  },
  {
   "cell_type": "markdown",
   "id": "6d436674",
   "metadata": {},
   "source": [
    "<h3>Testing on a new subsample of the dataset to validate</h3>"
   ]
  },
  {
   "cell_type": "code",
   "execution_count": 147,
   "id": "c2f0e43f",
   "metadata": {},
   "outputs": [
    {
     "name": "stdout",
     "output_type": "stream",
     "text": [
      "Accuracy for Linear Discriminant Analysis:  0.75\n",
      "Precision for Linear Discriminant Analysis:  0.75\n",
      "Recall for Linear Discriminant Analysis:  0.8181818181818182\n",
      "Accuracy for LinearSVC:  0.85\n",
      "Precision for LinearSVC:  0.7857142857142857\n",
      "Recall for LinearSVC:  1.0\n",
      "Accuracy for Ridge CV:  0.9\n",
      "Precision for Ridge CV:  0.8461538461538461\n",
      "Recall for Ridge CV:  1.0\n",
      "Accuracy for Logistic Regression:  0.9\n",
      "Precision for Logistic Regression:  0.8461538461538461\n",
      "Recall for Logistic Regression:  1.0\n"
     ]
    }
   ],
   "source": [
    "X_train, X_test, y_train, y_test = train_test_split(X, y, test_size=0.2, random_state=10)\n",
    "val=[]\n",
    "y_pred = lda.predict(X_test)\n",
    "y_pred = pd.DataFrame(y_pred)\n",
    "print(\"Accuracy for Linear Discriminant Analysis: \",accuracy_score(y_test,y_pred))\n",
    "print(\"Precision for Linear Discriminant Analysis: \",precision_score(y_test,y_pred))\n",
    "print(\"Recall for Linear Discriminant Analysis: \",recall_score(y_test,y_pred))\n",
    "val.append(accuracy_score(y_test,y_pred))\n",
    "\n",
    "y_pred = lsvc.predict(X_test)\n",
    "y_pred = pd.DataFrame(y_pred)\n",
    "print(\"Accuracy for LinearSVC: \",accuracy_score(y_test,y_pred))\n",
    "print(\"Precision for LinearSVC: \",precision_score(y_test,y_pred))\n",
    "print(\"Recall for LinearSVC: \",recall_score(y_test,y_pred))\n",
    "val.append(accuracy_score(y_test,y_pred))\n",
    "\n",
    "y_pred = ridgeCV.predict(X_test)\n",
    "y_pred = pd.DataFrame(y_pred)\n",
    "print(\"Accuracy for Ridge CV: \",accuracy_score(y_test,y_pred))\n",
    "print(\"Precision for Ridge CV: \",precision_score(y_test,y_pred))\n",
    "print(\"Recall for Ridge CV: \",recall_score(y_test,y_pred))\n",
    "val.append(accuracy_score(y_test,y_pred))\n",
    "\n",
    "y_pred = lr.predict(X_test)\n",
    "y_pred = pd.DataFrame(y_pred)\n",
    "print(\"Accuracy for Logistic Regression: \",accuracy_score(y_test,y_pred))\n",
    "print(\"Precision for Logistic Regression: \",precision_score(y_test,y_pred))\n",
    "print(\"Recall for Logistic Regression: \",recall_score(y_test,y_pred))\n",
    "val.append(accuracy_score(y_test,y_pred))\n",
    "\n"
   ]
  },
  {
   "cell_type": "code",
   "execution_count": 148,
   "id": "4c6fdffe",
   "metadata": {},
   "outputs": [
    {
     "name": "stdout",
     "output_type": "stream",
     "text": [
      "['RidgeCV', 'LDA', 'LogisticRegression', 'LSVC', 'RandomForest']\n"
     ]
    }
   ],
   "source": [
    "print(models)"
   ]
  },
  {
   "cell_type": "code",
   "execution_count": 149,
   "id": "32796b24",
   "metadata": {},
   "outputs": [
    {
     "data": {
      "image/png": "[encoded data removed]",
      "text/plain": [
       "<Figure size 720x360 with 1 Axes>"
      ]
     },
     "metadata": {},
     "output_type": "display_data"
    }
   ],
   "source": [
    "models = [ 'LDA',  'LSVC','RidgeCV', 'LogisticRegression']\n",
    "sns.axes_style('white')\n",
    "sns.set_style('white')\n",
    "fig = plt.figure(figsize = (10, 5))\n",
    "plt.ylim(0,1)\n",
    "ax = sns.barplot(models,val)\n",
    "plt.title(\"Validation Accuracy for Different Models\")\n",
    "plt.xlabel(\"Models\")\n",
    "plt.ylabel(\"Validation Accuracy Score\")\n",
    "plt.show()"
   ]
  },
  {
   "cell_type": "code",
   "execution_count": null,
   "id": "48ffc381",
   "metadata": {},
   "outputs": [],
   "source": []
  }
 ],
 "metadata": {
  "colab": {
   "provenance": []
  },
  "kernelspec": {
   "display_name": "Python 3 (ipykernel)",
   "language": "python",
   "name": "python3"
  },
  "language_info": {
   "codemirror_mode": {
    "name": "ipython",
    "version": 3
   },
   "file_extension": ".py",
   "mimetype": "text/x-python",
   "name": "python",
   "nbconvert_exporter": "python",
   "pygments_lexer": "ipython3",
   "version": "3.9.12"
  }
 },
 "nbformat": 4,
 "nbformat_minor": 5
}
