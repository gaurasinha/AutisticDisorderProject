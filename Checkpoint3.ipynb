{
 "cells": [
  {
   "cell_type": "code",
   "execution_count": 33,
   "id": "d6bf6d3a",
   "metadata": {
    "id": "d6bf6d3a"
   },
   "outputs": [],
   "source": [
    "import pandas as pd\n",
    "import numpy as np \n",
    "import matplotlib.pyplot as plt \n",
    "from sklearn import datasets\n",
    "from sklearn.model_selection import train_test_split\n",
    "from sklearn.feature_selection import SelectKBest, chi2\n",
    "from sklearn.feature_selection import RFE\n",
    "from sklearn.ensemble import RandomForestClassifier\n",
    "from sklearn.preprocessing import MinMaxScaler, StandardScaler, LabelEncoder\n",
    "from xgboost import XGBClassifier\n",
    "from sklearn.linear_model import LogisticRegression\n",
    "from sklearn.discriminant_analysis import LinearDiscriminantAnalysis\n",
    "from sklearn.model_selection import cross_val_score\n",
    "from sklearn.model_selection import RepeatedStratifiedKFold\n",
    "from sklearn.metrics import ConfusionMatrixDisplay\n",
    "\n",
    "import seaborn as sns\n",
    "from sklearn.metrics import r2_score\n",
    "from sklearn.metrics import accuracy_score\n",
    "from sklearn.metrics import precision_score\n",
    "from sklearn.metrics import recall_score\n",
    "from sklearn.metrics import roc_curve\n",
    "from sklearn.metrics import auc\n",
    "from sklearn.metrics import classification_report"
   ]
  },
  {
   "cell_type": "markdown",
   "id": "29843b90",
   "metadata": {
    "id": "29843b90"
   },
   "source": [
    "<h2> Feature Selection on Autism Biolog Dataset</h2>"
   ]
  },
  {
   "cell_type": "markdown",
   "id": "1d2aa2b8",
   "metadata": {
    "id": "1d2aa2b8"
   },
   "source": [
    "<h3>Loading the Data</h3>\n",
    "\n",
    "\n",
    "1. Loaded the dataset \n",
    "2. Drop the Columns which aren't required\n"
   ]
  },
  {
   "cell_type": "code",
   "execution_count": 2,
   "id": "5d4647c3",
   "metadata": {
    "colab": {
     "base_uri": "https://localhost:8080/",
     "height": 299
    },
    "id": "5d4647c3",
    "outputId": "9e59874c-63f9-4c99-a065-588910b82f5d"
   },
   "outputs": [
    {
     "data": {
      "text/html": [
       "<div>\n",
       "<style scoped>\n",
       "    .dataframe tbody tr th:only-of-type {\n",
       "        vertical-align: middle;\n",
       "    }\n",
       "\n",
       "    .dataframe tbody tr th {\n",
       "        vertical-align: top;\n",
       "    }\n",
       "\n",
       "    .dataframe thead th {\n",
       "        text-align: right;\n",
       "    }\n",
       "</style>\n",
       "<table border=\"1\" class=\"dataframe\">\n",
       "  <thead>\n",
       "    <tr style=\"text-align: right;\">\n",
       "      <th></th>\n",
       "      <th>a-Cyclodextrin</th>\n",
       "      <th>Dextrin</th>\n",
       "      <th>Glycogen</th>\n",
       "      <th>Maltitol</th>\n",
       "      <th>Maltotriose</th>\n",
       "      <th>Maltose</th>\n",
       "      <th>D-Trehalose</th>\n",
       "      <th>D-Cellobiose</th>\n",
       "      <th>Gentiobiose</th>\n",
       "      <th>D-Glucose-6-Phosphate</th>\n",
       "      <th>...</th>\n",
       "      <th>Adenosine.4</th>\n",
       "      <th>Adenosine.5</th>\n",
       "      <th>Adenosine.6</th>\n",
       "      <th>Gly-His-Lys acetate salt</th>\n",
       "      <th>Gly-His-Lys acetate salt.1</th>\n",
       "      <th>Gly-His-Lys acetate salt.2</th>\n",
       "      <th>Gly-His-Lys acetate salt.3</th>\n",
       "      <th>Gly-His-Lys acetate salt.4</th>\n",
       "      <th>Gly-His-Lys acetate salt.5</th>\n",
       "      <th>Diagnosis</th>\n",
       "    </tr>\n",
       "  </thead>\n",
       "  <tbody>\n",
       "    <tr>\n",
       "      <th>0</th>\n",
       "      <td>0.262591</td>\n",
       "      <td>0.997133</td>\n",
       "      <td>0.986968</td>\n",
       "      <td>0.277475</td>\n",
       "      <td>1.074956</td>\n",
       "      <td>1.089453</td>\n",
       "      <td>0.405887</td>\n",
       "      <td>0.311380</td>\n",
       "      <td>0.353178</td>\n",
       "      <td>0.455127</td>\n",
       "      <td>...</td>\n",
       "      <td>1.102738</td>\n",
       "      <td>1.095119</td>\n",
       "      <td>1.080465</td>\n",
       "      <td>0.997059</td>\n",
       "      <td>1.088651</td>\n",
       "      <td>0.986823</td>\n",
       "      <td>0.97434</td>\n",
       "      <td>0.951473</td>\n",
       "      <td>0.869257</td>\n",
       "      <td>1</td>\n",
       "    </tr>\n",
       "    <tr>\n",
       "      <th>1</th>\n",
       "      <td>0.239292</td>\n",
       "      <td>0.911528</td>\n",
       "      <td>1.013144</td>\n",
       "      <td>0.300022</td>\n",
       "      <td>1.022068</td>\n",
       "      <td>1.135745</td>\n",
       "      <td>0.392186</td>\n",
       "      <td>0.324281</td>\n",
       "      <td>0.310849</td>\n",
       "      <td>0.463682</td>\n",
       "      <td>...</td>\n",
       "      <td>1.181000</td>\n",
       "      <td>1.122300</td>\n",
       "      <td>1.235600</td>\n",
       "      <td>0.963800</td>\n",
       "      <td>0.943900</td>\n",
       "      <td>0.919300</td>\n",
       "      <td>0.90680</td>\n",
       "      <td>0.933600</td>\n",
       "      <td>0.886200</td>\n",
       "      <td>1</td>\n",
       "    </tr>\n",
       "    <tr>\n",
       "      <th>2</th>\n",
       "      <td>0.312369</td>\n",
       "      <td>1.408409</td>\n",
       "      <td>1.419281</td>\n",
       "      <td>0.379099</td>\n",
       "      <td>0.362415</td>\n",
       "      <td>0.169417</td>\n",
       "      <td>0.256599</td>\n",
       "      <td>0.111319</td>\n",
       "      <td>0.167910</td>\n",
       "      <td>0.617430</td>\n",
       "      <td>...</td>\n",
       "      <td>1.322800</td>\n",
       "      <td>0.753800</td>\n",
       "      <td>0.699300</td>\n",
       "      <td>1.188000</td>\n",
       "      <td>1.210800</td>\n",
       "      <td>1.121900</td>\n",
       "      <td>1.06560</td>\n",
       "      <td>1.046800</td>\n",
       "      <td>0.711000</td>\n",
       "      <td>1</td>\n",
       "    </tr>\n",
       "    <tr>\n",
       "      <th>3</th>\n",
       "      <td>0.188019</td>\n",
       "      <td>0.592031</td>\n",
       "      <td>0.413213</td>\n",
       "      <td>0.170653</td>\n",
       "      <td>0.253267</td>\n",
       "      <td>0.182602</td>\n",
       "      <td>0.158959</td>\n",
       "      <td>0.146343</td>\n",
       "      <td>0.134804</td>\n",
       "      <td>0.329473</td>\n",
       "      <td>...</td>\n",
       "      <td>0.615300</td>\n",
       "      <td>0.669000</td>\n",
       "      <td>0.572100</td>\n",
       "      <td>0.641000</td>\n",
       "      <td>0.633900</td>\n",
       "      <td>0.622100</td>\n",
       "      <td>0.61450</td>\n",
       "      <td>0.576700</td>\n",
       "      <td>0.546200</td>\n",
       "      <td>1</td>\n",
       "    </tr>\n",
       "    <tr>\n",
       "      <th>4</th>\n",
       "      <td>0.253399</td>\n",
       "      <td>1.352917</td>\n",
       "      <td>0.949392</td>\n",
       "      <td>0.251156</td>\n",
       "      <td>0.444184</td>\n",
       "      <td>0.218518</td>\n",
       "      <td>0.137328</td>\n",
       "      <td>0.174540</td>\n",
       "      <td>0.155979</td>\n",
       "      <td>0.680785</td>\n",
       "      <td>...</td>\n",
       "      <td>1.401038</td>\n",
       "      <td>1.367023</td>\n",
       "      <td>1.305691</td>\n",
       "      <td>1.234141</td>\n",
       "      <td>1.515057</td>\n",
       "      <td>1.158642</td>\n",
       "      <td>1.21869</td>\n",
       "      <td>1.183060</td>\n",
       "      <td>1.089372</td>\n",
       "      <td>1</td>\n",
       "    </tr>\n",
       "  </tbody>\n",
       "</table>\n",
       "<p>5 rows × 735 columns</p>\n",
       "</div>"
      ],
      "text/plain": [
       "   a-Cyclodextrin   Dextrin  Glycogen  Maltitol  Maltotriose   Maltose  \\\n",
       "0        0.262591  0.997133  0.986968  0.277475     1.074956  1.089453   \n",
       "1        0.239292  0.911528  1.013144  0.300022     1.022068  1.135745   \n",
       "2        0.312369  1.408409  1.419281  0.379099     0.362415  0.169417   \n",
       "3        0.188019  0.592031  0.413213  0.170653     0.253267  0.182602   \n",
       "4        0.253399  1.352917  0.949392  0.251156     0.444184  0.218518   \n",
       "\n",
       "   D-Trehalose  D-Cellobiose  Gentiobiose  D-Glucose-6-Phosphate  ...  \\\n",
       "0     0.405887      0.311380     0.353178               0.455127  ...   \n",
       "1     0.392186      0.324281     0.310849               0.463682  ...   \n",
       "2     0.256599      0.111319     0.167910               0.617430  ...   \n",
       "3     0.158959      0.146343     0.134804               0.329473  ...   \n",
       "4     0.137328      0.174540     0.155979               0.680785  ...   \n",
       "\n",
       "   Adenosine.4  Adenosine.5  Adenosine.6  Gly-His-Lys acetate salt  \\\n",
       "0     1.102738     1.095119     1.080465                  0.997059   \n",
       "1     1.181000     1.122300     1.235600                  0.963800   \n",
       "2     1.322800     0.753800     0.699300                  1.188000   \n",
       "3     0.615300     0.669000     0.572100                  0.641000   \n",
       "4     1.401038     1.367023     1.305691                  1.234141   \n",
       "\n",
       "   Gly-His-Lys acetate salt.1  Gly-His-Lys acetate salt.2  \\\n",
       "0                    1.088651                    0.986823   \n",
       "1                    0.943900                    0.919300   \n",
       "2                    1.210800                    1.121900   \n",
       "3                    0.633900                    0.622100   \n",
       "4                    1.515057                    1.158642   \n",
       "\n",
       "   Gly-His-Lys acetate salt.3  Gly-His-Lys acetate salt.4  \\\n",
       "0                     0.97434                    0.951473   \n",
       "1                     0.90680                    0.933600   \n",
       "2                     1.06560                    1.046800   \n",
       "3                     0.61450                    0.576700   \n",
       "4                     1.21869                    1.183060   \n",
       "\n",
       "   Gly-His-Lys acetate salt.5  Diagnosis  \n",
       "0                    0.869257          1  \n",
       "1                    0.886200          1  \n",
       "2                    0.711000          1  \n",
       "3                    0.546200          1  \n",
       "4                    1.089372          1  \n",
       "\n",
       "[5 rows x 735 columns]"
      ]
     },
     "execution_count": 2,
     "metadata": {},
     "output_type": "execute_result"
    }
   ],
   "source": [
    " # read the csv file from the link provided\n",
    " # drop Negative Controls from the dataset, since Negative Controls are not needed\n",
    " # drop the column that is not required from the dataset(CMS#)\n",
    "\n",
    "df = pd.read_csv(\"C:/AutisticDisorderProject/TestTrain5050data.csv\")\n",
    "df.drop(list(df.filter(regex='Negative Control')), axis=1, inplace=True)\n",
    "\n",
    "\n",
    "asd_data = df.drop(columns='CMS#',axis=1)\n",
    "# drop the 'CMS' column\n",
    "\n",
    "asd_data.head()"
   ]
  },
  {
   "cell_type": "code",
   "execution_count": 3,
   "id": "48881774",
   "metadata": {
    "id": "48881774"
   },
   "outputs": [
    {
     "data": {
      "text/plain": [
       "(100, 735)"
      ]
     },
     "execution_count": 3,
     "metadata": {},
     "output_type": "execute_result"
    }
   ],
   "source": [
    "# strip the whitespace in the column names\n",
    "asd_data.columns = asd_data.columns.str.strip()\n",
    "asd_data.shape"
   ]
  },
  {
   "cell_type": "markdown",
   "id": "c5ddda51",
   "metadata": {
    "id": "c5ddda51"
   },
   "source": [
    "<h3>Scaling the Data</h3>"
   ]
  },
  {
   "cell_type": "code",
   "execution_count": 4,
   "id": "a4efdc72",
   "metadata": {
    "id": "a4efdc72"
   },
   "outputs": [],
   "source": [
    "# hint: Use MinMaxScaler for scaling\n",
    "def scale_data(data):\n",
    "    # store all the columns\n",
    "    cols = data.columns\n",
    "    # create a scaler\n",
    "    scaler = MinMaxScaler(feature_range=(0, 1))\n",
    "    \n",
    "    # fit and transform the data\n",
    "    scaled_data = scaler.fit_transform(data)\n",
    "    \n",
    "    # store the transformed data in a dataframe and return it.\n",
    "    transformed_data = pd.DataFrame(scaled_data)\n",
    "    transformed_data.columns = cols\n",
    "    return transformed_data\n"
   ]
  },
  {
   "cell_type": "code",
   "execution_count": 5,
   "id": "c618794d",
   "metadata": {
    "colab": {
     "base_uri": "https://localhost:8080/",
     "height": 299
    },
    "id": "c618794d",
    "outputId": "be068134-df65-4bae-c819-fe5e2c2c7967"
   },
   "outputs": [
    {
     "data": {
      "text/html": [
       "<div>\n",
       "<style scoped>\n",
       "    .dataframe tbody tr th:only-of-type {\n",
       "        vertical-align: middle;\n",
       "    }\n",
       "\n",
       "    .dataframe tbody tr th {\n",
       "        vertical-align: top;\n",
       "    }\n",
       "\n",
       "    .dataframe thead th {\n",
       "        text-align: right;\n",
       "    }\n",
       "</style>\n",
       "<table border=\"1\" class=\"dataframe\">\n",
       "  <thead>\n",
       "    <tr style=\"text-align: right;\">\n",
       "      <th></th>\n",
       "      <th>a-Cyclodextrin</th>\n",
       "      <th>Dextrin</th>\n",
       "      <th>Glycogen</th>\n",
       "      <th>Maltitol</th>\n",
       "      <th>Maltotriose</th>\n",
       "      <th>Maltose</th>\n",
       "      <th>D-Trehalose</th>\n",
       "      <th>D-Cellobiose</th>\n",
       "      <th>Gentiobiose</th>\n",
       "      <th>D-Glucose-6-Phosphate</th>\n",
       "      <th>...</th>\n",
       "      <th>Adenosine.4</th>\n",
       "      <th>Adenosine.5</th>\n",
       "      <th>Adenosine.6</th>\n",
       "      <th>Gly-His-Lys acetate salt</th>\n",
       "      <th>Gly-His-Lys acetate salt.1</th>\n",
       "      <th>Gly-His-Lys acetate salt.2</th>\n",
       "      <th>Gly-His-Lys acetate salt.3</th>\n",
       "      <th>Gly-His-Lys acetate salt.4</th>\n",
       "      <th>Gly-His-Lys acetate salt.5</th>\n",
       "      <th>Diagnosis</th>\n",
       "    </tr>\n",
       "  </thead>\n",
       "  <tbody>\n",
       "    <tr>\n",
       "      <th>0</th>\n",
       "      <td>0.423145</td>\n",
       "      <td>0.611943</td>\n",
       "      <td>0.673013</td>\n",
       "      <td>0.655346</td>\n",
       "      <td>0.798260</td>\n",
       "      <td>0.741404</td>\n",
       "      <td>0.599716</td>\n",
       "      <td>0.665656</td>\n",
       "      <td>0.754709</td>\n",
       "      <td>0.489498</td>\n",
       "      <td>...</td>\n",
       "      <td>0.553747</td>\n",
       "      <td>0.529862</td>\n",
       "      <td>0.554927</td>\n",
       "      <td>0.580709</td>\n",
       "      <td>0.632509</td>\n",
       "      <td>0.616020</td>\n",
       "      <td>0.553273</td>\n",
       "      <td>0.584858</td>\n",
       "      <td>0.574413</td>\n",
       "      <td>1.0</td>\n",
       "    </tr>\n",
       "    <tr>\n",
       "      <th>1</th>\n",
       "      <td>0.354959</td>\n",
       "      <td>0.554366</td>\n",
       "      <td>0.692812</td>\n",
       "      <td>0.725226</td>\n",
       "      <td>0.754946</td>\n",
       "      <td>0.775075</td>\n",
       "      <td>0.575320</td>\n",
       "      <td>0.703234</td>\n",
       "      <td>0.652358</td>\n",
       "      <td>0.503952</td>\n",
       "      <td>...</td>\n",
       "      <td>0.597941</td>\n",
       "      <td>0.544887</td>\n",
       "      <td>0.644687</td>\n",
       "      <td>0.558909</td>\n",
       "      <td>0.537492</td>\n",
       "      <td>0.568644</td>\n",
       "      <td>0.508922</td>\n",
       "      <td>0.573468</td>\n",
       "      <td>0.585870</td>\n",
       "      <td>1.0</td>\n",
       "    </tr>\n",
       "    <tr>\n",
       "      <th>2</th>\n",
       "      <td>0.568819</td>\n",
       "      <td>0.888562</td>\n",
       "      <td>1.000000</td>\n",
       "      <td>0.970318</td>\n",
       "      <td>0.214713</td>\n",
       "      <td>0.072198</td>\n",
       "      <td>0.333904</td>\n",
       "      <td>0.082914</td>\n",
       "      <td>0.306733</td>\n",
       "      <td>0.763727</td>\n",
       "      <td>...</td>\n",
       "      <td>0.678014</td>\n",
       "      <td>0.341184</td>\n",
       "      <td>0.334388</td>\n",
       "      <td>0.705864</td>\n",
       "      <td>0.712690</td>\n",
       "      <td>0.710792</td>\n",
       "      <td>0.613200</td>\n",
       "      <td>0.645610</td>\n",
       "      <td>0.467408</td>\n",
       "      <td>1.0</td>\n",
       "    </tr>\n",
       "    <tr>\n",
       "      <th>3</th>\n",
       "      <td>0.204909</td>\n",
       "      <td>0.339476</td>\n",
       "      <td>0.239045</td>\n",
       "      <td>0.324258</td>\n",
       "      <td>0.125324</td>\n",
       "      <td>0.081788</td>\n",
       "      <td>0.160053</td>\n",
       "      <td>0.184931</td>\n",
       "      <td>0.226685</td>\n",
       "      <td>0.277191</td>\n",
       "      <td>...</td>\n",
       "      <td>0.278496</td>\n",
       "      <td>0.294307</td>\n",
       "      <td>0.260791</td>\n",
       "      <td>0.347324</td>\n",
       "      <td>0.334002</td>\n",
       "      <td>0.360123</td>\n",
       "      <td>0.316979</td>\n",
       "      <td>0.346016</td>\n",
       "      <td>0.355979</td>\n",
       "      <td>1.0</td>\n",
       "    </tr>\n",
       "    <tr>\n",
       "      <th>4</th>\n",
       "      <td>0.396242</td>\n",
       "      <td>0.851239</td>\n",
       "      <td>0.644593</td>\n",
       "      <td>0.573772</td>\n",
       "      <td>0.281679</td>\n",
       "      <td>0.107912</td>\n",
       "      <td>0.121537</td>\n",
       "      <td>0.267066</td>\n",
       "      <td>0.277886</td>\n",
       "      <td>0.870772</td>\n",
       "      <td>...</td>\n",
       "      <td>0.722194</td>\n",
       "      <td>0.680168</td>\n",
       "      <td>0.685241</td>\n",
       "      <td>0.736108</td>\n",
       "      <td>0.912411</td>\n",
       "      <td>0.736572</td>\n",
       "      <td>0.713729</td>\n",
       "      <td>0.732448</td>\n",
       "      <td>0.723244</td>\n",
       "      <td>1.0</td>\n",
       "    </tr>\n",
       "  </tbody>\n",
       "</table>\n",
       "<p>5 rows × 735 columns</p>\n",
       "</div>"
      ],
      "text/plain": [
       "   a-Cyclodextrin   Dextrin  Glycogen  Maltitol  Maltotriose   Maltose  \\\n",
       "0        0.423145  0.611943  0.673013  0.655346     0.798260  0.741404   \n",
       "1        0.354959  0.554366  0.692812  0.725226     0.754946  0.775075   \n",
       "2        0.568819  0.888562  1.000000  0.970318     0.214713  0.072198   \n",
       "3        0.204909  0.339476  0.239045  0.324258     0.125324  0.081788   \n",
       "4        0.396242  0.851239  0.644593  0.573772     0.281679  0.107912   \n",
       "\n",
       "   D-Trehalose  D-Cellobiose  Gentiobiose  D-Glucose-6-Phosphate  ...  \\\n",
       "0     0.599716      0.665656     0.754709               0.489498  ...   \n",
       "1     0.575320      0.703234     0.652358               0.503952  ...   \n",
       "2     0.333904      0.082914     0.306733               0.763727  ...   \n",
       "3     0.160053      0.184931     0.226685               0.277191  ...   \n",
       "4     0.121537      0.267066     0.277886               0.870772  ...   \n",
       "\n",
       "   Adenosine.4  Adenosine.5  Adenosine.6  Gly-His-Lys acetate salt  \\\n",
       "0     0.553747     0.529862     0.554927                  0.580709   \n",
       "1     0.597941     0.544887     0.644687                  0.558909   \n",
       "2     0.678014     0.341184     0.334388                  0.705864   \n",
       "3     0.278496     0.294307     0.260791                  0.347324   \n",
       "4     0.722194     0.680168     0.685241                  0.736108   \n",
       "\n",
       "   Gly-His-Lys acetate salt.1  Gly-His-Lys acetate salt.2  \\\n",
       "0                    0.632509                    0.616020   \n",
       "1                    0.537492                    0.568644   \n",
       "2                    0.712690                    0.710792   \n",
       "3                    0.334002                    0.360123   \n",
       "4                    0.912411                    0.736572   \n",
       "\n",
       "   Gly-His-Lys acetate salt.3  Gly-His-Lys acetate salt.4  \\\n",
       "0                    0.553273                    0.584858   \n",
       "1                    0.508922                    0.573468   \n",
       "2                    0.613200                    0.645610   \n",
       "3                    0.316979                    0.346016   \n",
       "4                    0.713729                    0.732448   \n",
       "\n",
       "   Gly-His-Lys acetate salt.5  Diagnosis  \n",
       "0                    0.574413        1.0  \n",
       "1                    0.585870        1.0  \n",
       "2                    0.467408        1.0  \n",
       "3                    0.355979        1.0  \n",
       "4                    0.723244        1.0  \n",
       "\n",
       "[5 rows x 735 columns]"
      ]
     },
     "execution_count": 5,
     "metadata": {},
     "output_type": "execute_result"
    }
   ],
   "source": [
    "transformed_data = scale_data(asd_data)\n",
    "transformed_data.head()"
   ]
  },
  {
   "cell_type": "markdown",
   "id": "6bbd4d64",
   "metadata": {
    "id": "6bbd4d64"
   },
   "source": [
    "5. Perform train_test_split"
   ]
  },
  {
   "cell_type": "code",
   "execution_count": 37,
   "id": "c2c41cf1",
   "metadata": {
    "id": "c2c41cf1"
   },
   "outputs": [],
   "source": [
    "# select all rows of all columns except the column 'Diagnosis'\n",
    "X = transformed_data.loc[:, :'Gly-His-Lys acetate salt.5']\n",
    "\n",
    "# the column we are going to classify\n",
    "y = transformed_data['Diagnosis']\n",
    "\n",
    "# do the train test data split\n",
    "X_train, X_test, y_train, y_test = train_test_split(X, y, test_size=0.3, random_state=50)\n",
    "\n",
    "# convert y_train and y_test into dataframes\n",
    "y_train = pd.DataFrame(y_train)\n",
    "y_test = pd.DataFrame(y_test)\n",
    "\n",
    "y_train = y_train.astype('int')"
   ]
  },
  {
   "cell_type": "markdown",
   "id": "3a0d0124",
   "metadata": {},
   "source": [
    "<h3>Shortlisting Classifiers</h3>"
   ]
  },
  {
   "cell_type": "markdown",
   "id": "e93ae893",
   "metadata": {
    "id": "e93ae893"
   },
   "source": [
    "Use lazypredict to get a shortlist on best possible classifiers"
   ]
  },
  {
   "cell_type": "code",
   "execution_count": 38,
   "id": "7067f3ce",
   "metadata": {
    "id": "7067f3ce"
   },
   "outputs": [
    {
     "name": "stderr",
     "output_type": "stream",
     "text": [
      "100%|██████████| 29/29 [00:01<00:00, 19.18it/s]\n"
     ]
    }
   ],
   "source": [
    "#!pip install lazypredict\n",
    "from lazypredict.Supervised import LazyClassifier, LazyRegressor\n",
    "clf = LazyClassifier(predictions=True)\n",
    "models, predictions = clf.fit(X_train, X_test, y_train, y_test)"
   ]
  },
  {
   "cell_type": "markdown",
   "id": "bfdeb22c",
   "metadata": {
    "id": "bfdeb22c"
   },
   "source": [
    "Print the results"
   ]
  },
  {
   "cell_type": "code",
   "execution_count": 39,
   "id": "e30bc26b",
   "metadata": {
    "id": "e30bc26b"
   },
   "outputs": [
    {
     "name": "stdout",
     "output_type": "stream",
     "text": [
      "                               Accuracy  Balanced Accuracy  ROC AUC  F1 Score  \\\n",
      "Model                                                                           \n",
      "LogisticRegression                 0.73               0.72     0.72      0.73   \n",
      "LinearDiscriminantAnalysis         0.70               0.69     0.69      0.69   \n",
      "LinearSVC                          0.70               0.69     0.69      0.69   \n",
      "RidgeClassifierCV                  0.70               0.69     0.69      0.69   \n",
      "PassiveAggressiveClassifier        0.70               0.69     0.69      0.69   \n",
      "CalibratedClassifierCV             0.67               0.66     0.66      0.66   \n",
      "RidgeClassifier                    0.67               0.65     0.65      0.65   \n",
      "SGDClassifier                      0.63               0.63     0.63      0.63   \n",
      "NearestCentroid                    0.63               0.63     0.63      0.63   \n",
      "AdaBoostClassifier                 0.63               0.63     0.63      0.63   \n",
      "LGBMClassifier                     0.63               0.62     0.62      0.63   \n",
      "NuSVC                              0.63               0.62     0.62      0.63   \n",
      "XGBClassifier                      0.63               0.62     0.62      0.63   \n",
      "Perceptron                         0.63               0.62     0.62      0.61   \n",
      "BaggingClassifier                  0.60               0.60     0.60      0.60   \n",
      "GaussianNB                         0.60               0.59     0.59      0.60   \n",
      "RandomForestClassifier             0.60               0.59     0.59      0.59   \n",
      "SVC                                0.60               0.59     0.59      0.59   \n",
      "ExtraTreesClassifier               0.57               0.55     0.55      0.55   \n",
      "ExtraTreeClassifier                0.53               0.54     0.54      0.53   \n",
      "BernoulliNB                        0.53               0.52     0.52      0.52   \n",
      "QuadraticDiscriminantAnalysis      0.53               0.52     0.52      0.51   \n",
      "LabelSpreading                     0.47               0.50     0.50      0.30   \n",
      "DummyClassifier                    0.47               0.50     0.50      0.30   \n",
      "LabelPropagation                   0.47               0.50     0.50      0.30   \n",
      "KNeighborsClassifier               0.47               0.46     0.46      0.46   \n",
      "DecisionTreeClassifier             0.47               0.46     0.46      0.45   \n",
      "\n",
      "                               Time Taken  \n",
      "Model                                      \n",
      "LogisticRegression                   0.03  \n",
      "LinearDiscriminantAnalysis           0.04  \n",
      "LinearSVC                            0.04  \n",
      "RidgeClassifierCV                    0.03  \n",
      "PassiveAggressiveClassifier          0.03  \n",
      "CalibratedClassifierCV               0.07  \n",
      "RidgeClassifier                      0.04  \n",
      "SGDClassifier                        0.02  \n",
      "NearestCentroid                      0.02  \n",
      "AdaBoostClassifier                   0.23  \n",
      "LGBMClassifier                       0.12  \n",
      "NuSVC                                0.03  \n",
      "XGBClassifier                        0.14  \n",
      "Perceptron                           0.03  \n",
      "BaggingClassifier                    0.08  \n",
      "GaussianNB                           0.02  \n",
      "RandomForestClassifier               0.17  \n",
      "SVC                                  0.02  \n",
      "ExtraTreesClassifier                 0.14  \n",
      "ExtraTreeClassifier                  0.03  \n",
      "BernoulliNB                          0.02  \n",
      "QuadraticDiscriminantAnalysis        0.02  \n",
      "LabelSpreading                       0.02  \n",
      "DummyClassifier                      0.02  \n",
      "LabelPropagation                     0.03  \n",
      "KNeighborsClassifier                 0.02  \n",
      "DecisionTreeClassifier               0.03  \n"
     ]
    }
   ],
   "source": [
    "print(models)"
   ]
  },
  {
   "cell_type": "markdown",
   "id": "8d90ee53",
   "metadata": {},
   "source": [
    "<h3>Alternative Models : </h3> XGBoost Classifier, Linear Discriminant Analysis, Logistic Regression"
   ]
  },
  {
   "cell_type": "markdown",
   "id": "fbb95411",
   "metadata": {},
   "source": [
    "<h4>XGBoost Classifier</h4> "
   ]
  },
  {
   "cell_type": "code",
   "execution_count": 53,
   "id": "453164a9",
   "metadata": {
    "colab": {
     "base_uri": "https://localhost:8080/"
    },
    "id": "453164a9",
    "outputId": "c112552a-7ae1-4003-b1eb-9cea8c4bc1c8"
   },
   "outputs": [
    {
     "name": "stdout",
     "output_type": "stream",
     "text": [
      "Accuracy for XGBClassifier:  0.6333333333333333\n",
      "Precision for XGBClassifier:  0.631578947368421\n",
      "Recall for XGBClassifier:  0.75\n",
      "Confusion matrix, without normalization\n",
      "[[ 7  7]\n",
      " [ 4 12]]\n",
      "Normalized confusion matrix\n",
      "[[0.5  0.5 ]\n",
      " [0.25 0.75]]\n"
     ]
    },
    {
     "data": {
      "image/png": "[encoded data removed]",
      "text/plain": [
       "<Figure size 1080x576 with 2 Axes>"
      ]
     },
     "metadata": {
      "needs_background": "light"
     },
     "output_type": "display_data"
    },
    {
     "data": {
      "image/png": "[encoded data removed]",
      "text/plain": [
       "<Figure size 1080x576 with 2 Axes>"
      ]
     },
     "metadata": {
      "needs_background": "light"
     },
     "output_type": "display_data"
    }
   ],
   "source": [
    "xgb = XGBClassifier()\n",
    "xgb.fit(X_train, y_train)\n",
    "y_pred = xgb.predict(X_test)\n",
    "y_pred = pd.DataFrame(y_pred)\n",
    "\n",
    "print(\"Accuracy for XGBClassifier: \",accuracy_score(y_test,y_pred))\n",
    "print(\"Precision for XGBClassifier: \",precision_score(y_test,y_pred))\n",
    "print(\"Recall for XGBClassifier: \",recall_score(y_test,y_pred))\n",
    "\n",
    "titles_options = [\n",
    "    (\"Confusion matrix, without normalization\", None),\n",
    "    (\"Normalized confusion matrix\", \"true\"),\n",
    "]\n",
    "for title, normalize in titles_options:\n",
    "    disp = ConfusionMatrixDisplay.from_estimator(\n",
    "        xgb,\n",
    "        X_test,\n",
    "        y_test,\n",
    "        display_labels=[0,1],\n",
    "        cmap=plt.cm.Blues,\n",
    "        normalize=normalize,\n",
    "    )\n",
    "    disp.ax_.set_title(title)\n",
    "\n",
    "    print(title)\n",
    "    print(disp.confusion_matrix)\n",
    "\n",
    "plt.show()"
   ]
  },
  {
   "cell_type": "markdown",
   "id": "c6a0ec64",
   "metadata": {},
   "source": [
    "<h4>Linear Discriminant Analysis</h4>"
   ]
  },
  {
   "cell_type": "code",
   "execution_count": 57,
   "id": "94ba0a9a",
   "metadata": {},
   "outputs": [
    {
     "name": "stdout",
     "output_type": "stream",
     "text": [
      "Accuracy for Linear Discriminant Analysis:  0.7\n",
      "Precision for Linear Discriminant Analysis:  0.6842105263157895\n",
      "Recall for Linear Discriminant Analysis:  0.8125\n",
      "Confusion matrix, without normalization\n",
      "[[ 8  6]\n",
      " [ 3 13]]\n",
      "Normalized confusion matrix\n",
      "[[0.57142857 0.42857143]\n",
      " [0.1875     0.8125    ]]\n"
     ]
    },
    {
     "data": {
      "image/png": "[encoded data removed]",
      "text/plain": [
       "<Figure size 1080x576 with 2 Axes>"
      ]
     },
     "metadata": {
      "needs_background": "light"
     },
     "output_type": "display_data"
    },
    {
     "data": {
      "image/png": "[encoded data removed]",
      "text/plain": [
       "<Figure size 1080x576 with 2 Axes>"
      ]
     },
     "metadata": {
      "needs_background": "light"
     },
     "output_type": "display_data"
    }
   ],
   "source": [
    "lda = LinearDiscriminantAnalysis()\n",
    "lda.fit(X_train, y_train)\n",
    "y_pred = lda.predict(X_test)\n",
    "y_pred = pd.DataFrame(y_pred)\n",
    "\n",
    "print(\"Accuracy for Linear Discriminant Analysis: \",accuracy_score(y_test,y_pred))\n",
    "print(\"Precision for Linear Discriminant Analysis: \",precision_score(y_test,y_pred))\n",
    "print(\"Recall for Linear Discriminant Analysis: \",recall_score(y_test,y_pred))\n",
    "\n",
    "titles_options = [\n",
    "    (\"Confusion matrix, without normalization\", None),\n",
    "    (\"Normalized confusion matrix\", \"true\"),\n",
    "]\n",
    "for title, normalize in titles_options:\n",
    "    disp = ConfusionMatrixDisplay.from_estimator(\n",
    "        lda,\n",
    "        X_test,\n",
    "        y_test,\n",
    "        display_labels=[0,1],\n",
    "        cmap=plt.cm.Blues,\n",
    "        normalize=normalize\n",
    "    )\n",
    "    disp.ax_.set_title(title)\n",
    "\n",
    "    print(title)\n",
    "    print(disp.confusion_matrix)\n",
    "\n",
    "plt.show()"
   ]
  },
  {
   "cell_type": "markdown",
   "id": "d376c650",
   "metadata": {
    "id": "d376c650"
   },
   "source": [
    "<h4>Logistic Regression</h4>"
   ]
  },
  {
   "cell_type": "code",
   "execution_count": 58,
   "id": "1644ca38",
   "metadata": {
    "colab": {
     "base_uri": "https://localhost:8080/"
    },
    "id": "1644ca38",
    "outputId": "31f2d6dd-0f75-44c4-f35e-13e4b2bb3aef"
   },
   "outputs": [
    {
     "name": "stdout",
     "output_type": "stream",
     "text": [
      "Accuracy for Logistic Regression:  0.7333333333333333\n",
      "Precision for Logistic Regression:  0.7\n",
      "Recall for Logistic Regression:  0.875\n",
      "Confusion matrix, without normalization\n",
      "[[ 8  6]\n",
      " [ 2 14]]\n",
      "Normalized confusion matrix\n",
      "[[0.57142857 0.42857143]\n",
      " [0.125      0.875     ]]\n"
     ]
    },
    {
     "data": {
      "image/png": "[encoded data removed]",
      "text/plain": [
       "<Figure size 1080x576 with 2 Axes>"
      ]
     },
     "metadata": {
      "needs_background": "light"
     },
     "output_type": "display_data"
    },
    {
     "data": {
      "image/png": "[encoded data removed]",
      "text/plain": [
       "<Figure size 1080x576 with 2 Axes>"
      ]
     },
     "metadata": {
      "needs_background": "light"
     },
     "output_type": "display_data"
    }
   ],
   "source": [
    "lr = LogisticRegression(solver=\"lbfgs\", max_iter=10000)\n",
    "lr.fit(X_train, y_train)\n",
    "y_pred = lr.predict(X_test)\n",
    "y_pred = pd.DataFrame(y_pred)\n",
    "print(\"Accuracy for Logistic Regression: \",accuracy_score(y_test,y_pred))\n",
    "print(\"Precision for Logistic Regression: \",precision_score(y_test,y_pred))\n",
    "print(\"Recall for Logistic Regression: \",recall_score(y_test,y_pred))\n",
    "\n",
    "titles_options = [\n",
    "    (\"Confusion matrix, without normalization\", None),\n",
    "    (\"Normalized confusion matrix\", \"true\"),\n",
    "]\n",
    "for title, normalize in titles_options:\n",
    "    disp = ConfusionMatrixDisplay.from_estimator(\n",
    "        lr,\n",
    "        X_test,\n",
    "        y_test,\n",
    "        display_labels=[0,1],\n",
    "        cmap=plt.cm.Blues,\n",
    "        normalize=normalize\n",
    "    )\n",
    "    disp.ax_.set_title(title)\n",
    "\n",
    "    print(title)\n",
    "    print(disp.confusion_matrix)\n",
    "\n",
    "plt.show()\n"
   ]
  },
  {
   "cell_type": "code",
   "execution_count": 65,
   "id": "85efc2c9",
   "metadata": {},
   "outputs": [
    {
     "name": "stdout",
     "output_type": "stream",
     "text": [
      "Accuracy for Logistic Regression:  0.8666666666666667\n",
      "Precision for Logistic Regression:  0.8571428571428571\n",
      "Recall for Logistic Regression:  0.8571428571428571\n"
     ]
    }
   ],
   "source": [
    "X_train, X_test, y_train, y_test = train_test_split(X, y, test_size=0.30, random_state=10)\n",
    "\n",
    "y_pred = lr.predict(X_test)\n",
    "y_pred = pd.DataFrame(y_pred)\n",
    "print(\"Accuracy for Logistic Regression: \",accuracy_score(y_test,y_pred))\n",
    "print(\"Precision for Logistic Regression: \",precision_score(y_test,y_pred))\n",
    "print(\"Recall for Logistic Regression: \",recall_score(y_test,y_pred))\n"
   ]
  },
  {
   "cell_type": "markdown",
   "id": "b325e790",
   "metadata": {
    "id": "b325e790"
   },
   "source": [
    "### Linear SVC"
   ]
  },
  {
   "cell_type": "code",
   "execution_count": 63,
   "id": "6a5fdbb0",
   "metadata": {
    "colab": {
     "base_uri": "https://localhost:8080/"
    },
    "id": "6a5fdbb0",
    "outputId": "35838e78-aeec-4fc8-eda6-cc58f4886274"
   },
   "outputs": [
    {
     "name": "stdout",
     "output_type": "stream",
     "text": [
      "Accuracy for LinearSVC:  0.7\n",
      "Precision for LinearSVC:  0.6666666666666666\n",
      "Recall for LinearSVC:  0.875\n",
      "Confusion matrix, without normalization\n",
      "[[ 7  7]\n",
      " [ 2 14]]\n",
      "Normalized confusion matrix\n",
      "[[0.5   0.5  ]\n",
      " [0.125 0.875]]\n"
     ]
    },
    {
     "data": {
      "image/png": "[encoded data removed]",
      "text/plain": [
       "<Figure size 1080x576 with 2 Axes>"
      ]
     },
     "metadata": {
      "needs_background": "light"
     },
     "output_type": "display_data"
    },
    {
     "data": {
      "image/png": "[encoded data removed]",
      "text/plain": [
       "<Figure size 1080x576 with 2 Axes>"
      ]
     },
     "metadata": {
      "needs_background": "light"
     },
     "output_type": "display_data"
    },
    {
     "name": "stdout",
     "output_type": "stream",
     "text": [
      "Score:  1.0\n",
      "              precision    recall  f1-score   support\n",
      "\n",
      "         0.0       0.78      0.50      0.61        14\n",
      "         1.0       0.67      0.88      0.76        16\n",
      "\n",
      "    accuracy                           0.70        30\n",
      "   macro avg       0.72      0.69      0.68        30\n",
      "weighted avg       0.72      0.70      0.69        30\n",
      "\n"
     ]
    }
   ],
   "source": [
    "from sklearn.svm import LinearSVC\n",
    "lsvc = LinearSVC(verbose=0)\n",
    "\n",
    "lsvc.fit(X_train, y_train)\n",
    "y_pred = lsvc.predict(X_test)\n",
    "y_pred = pd.DataFrame(y_pred)\n",
    "print(\"Accuracy for LinearSVC: \",accuracy_score(y_test,y_pred))\n",
    "print(\"Precision for LinearSVC: \",precision_score(y_test,y_pred))\n",
    "print(\"Recall for LinearSVC: \",recall_score(y_test,y_pred))\n",
    "\n",
    "titles_options = [\n",
    "    (\"Confusion matrix, without normalization\", None),\n",
    "    (\"Normalized confusion matrix\", \"true\"),\n",
    "]\n",
    "for title, normalize in titles_options:\n",
    "    disp = ConfusionMatrixDisplay.from_estimator(\n",
    "        lsvc,\n",
    "        X_test,\n",
    "        y_test,\n",
    "        display_labels=[0,1],\n",
    "        cmap=plt.cm.Blues,\n",
    "        normalize=normalize\n",
    "    )\n",
    "    disp.ax_.set_title(title)\n",
    "\n",
    "    print(title)\n",
    "    print(disp.confusion_matrix)\n",
    "\n",
    "plt.show()\n",
    "\n",
    "\n",
    "cr = classification_report(y_test, y_pred)\n",
    "print(cr)"
   ]
  },
  {
   "cell_type": "code",
   "execution_count": 64,
   "id": "e45c352e",
   "metadata": {},
   "outputs": [
    {
     "name": "stdout",
     "output_type": "stream",
     "text": [
      "Accuracy for Random Forest Classifier:  0.5333333333333333\n",
      "Precision for Random Forest Classifier:  0.55\n",
      "Recall for Random Forest Classifier:  0.6875\n",
      "Confusion matrix, without normalization\n",
      "[[ 5  9]\n",
      " [ 5 11]]\n",
      "Normalized confusion matrix\n",
      "[[0.35714286 0.64285714]\n",
      " [0.3125     0.6875    ]]\n"
     ]
    },
    {
     "data": {
      "image/png": "[encoded data removed]",
      "text/plain": [
       "<Figure size 1080x576 with 2 Axes>"
      ]
     },
     "metadata": {
      "needs_background": "light"
     },
     "output_type": "display_data"
    },
    {
     "data": {
      "image/png": "[encoded data removed]",
      "text/plain": [
       "<Figure size 1080x576 with 2 Axes>"
      ]
     },
     "metadata": {
      "needs_background": "light"
     },
     "output_type": "display_data"
    }
   ],
   "source": [
    "rf = RandomForestClassifier()\n",
    "rf.fit(X_train, y_train)\n",
    "y_pred = rf.predict(X_test)\n",
    "y_pred = pd.DataFrame(y_pred)\n",
    "\n",
    "print(\"Accuracy for Random Forest Classifier: \",accuracy_score(y_test,y_pred))\n",
    "print(\"Precision for Random Forest Classifier: \",precision_score(y_test,y_pred))\n",
    "print(\"Recall for Random Forest Classifier: \",recall_score(y_test,y_pred))\n",
    "\n",
    "titles_options = [\n",
    "    (\"Confusion matrix, without normalization\", None),\n",
    "    (\"Normalized confusion matrix\", \"true\"),\n",
    "]\n",
    "for title, normalize in titles_options:\n",
    "    disp = ConfusionMatrixDisplay.from_estimator(\n",
    "        rf,\n",
    "        X_test,\n",
    "        y_test,\n",
    "        display_labels=[0,1],\n",
    "        cmap=plt.cm.Blues,\n",
    "        normalize=normalize,\n",
    "    )\n",
    "    disp.ax_.set_title(title)\n",
    "\n",
    "    print(title)\n",
    "    print(disp.confusion_matrix)\n",
    "\n",
    "plt.show()\n"
   ]
  },
  {
   "cell_type": "code",
   "execution_count": null,
   "id": "6f8dbf0d",
   "metadata": {},
   "outputs": [],
   "source": []
  }
 ],
 "metadata": {
  "colab": {
   "provenance": []
  },
  "kernelspec": {
   "display_name": "Python 3 (ipykernel)",
   "language": "python",
   "name": "python3"
  },
  "language_info": {
   "codemirror_mode": {
    "name": "ipython",
    "version": 3
   },
   "file_extension": ".py",
   "mimetype": "text/x-python",
   "name": "python",
   "nbconvert_exporter": "python",
   "pygments_lexer": "ipython3",
   "version": "3.9.12"
  }
 },
 "nbformat": 4,
 "nbformat_minor": 5
}
